{
 "cells": [
  {
   "cell_type": "code",
   "execution_count": 1,
   "id": "f079c8ba",
   "metadata": {},
   "outputs": [
    {
     "ename": "KeyError",
     "evalue": "''",
     "output_type": "error",
     "traceback": [
      "\u001b[1;31m---------------------------------------------------------------------------\u001b[0m",
      "\u001b[1;31mKeyError\u001b[0m                                  Traceback (most recent call last)",
      "\u001b[1;32m~\\AppData\\Local\\Temp/ipykernel_16548/1472896152.py\u001b[0m in \u001b[0;36m<module>\u001b[1;34m\u001b[0m\n\u001b[0;32m      1\u001b[0m \u001b[1;32mimport\u001b[0m \u001b[0mos\u001b[0m\u001b[1;33m\u001b[0m\u001b[1;33m\u001b[0m\u001b[0m\n\u001b[1;32m----> 2\u001b[1;33m \u001b[0mos\u001b[0m\u001b[1;33m.\u001b[0m\u001b[0menviron\u001b[0m\u001b[1;33m[\u001b[0m\u001b[1;34m\"\"\u001b[0m\u001b[1;33m]\u001b[0m\u001b[1;33m\u001b[0m\u001b[1;33m\u001b[0m\u001b[0m\n\u001b[0m",
      "\u001b[1;32mC:\\Python310\\lib\\os.py\u001b[0m in \u001b[0;36m__getitem__\u001b[1;34m(self, key)\u001b[0m\n\u001b[0;32m    677\u001b[0m         \u001b[1;32mexcept\u001b[0m \u001b[0mKeyError\u001b[0m\u001b[1;33m:\u001b[0m\u001b[1;33m\u001b[0m\u001b[1;33m\u001b[0m\u001b[0m\n\u001b[0;32m    678\u001b[0m             \u001b[1;31m# raise KeyError with the original key value\u001b[0m\u001b[1;33m\u001b[0m\u001b[1;33m\u001b[0m\u001b[0m\n\u001b[1;32m--> 679\u001b[1;33m             \u001b[1;32mraise\u001b[0m \u001b[0mKeyError\u001b[0m\u001b[1;33m(\u001b[0m\u001b[0mkey\u001b[0m\u001b[1;33m)\u001b[0m \u001b[1;32mfrom\u001b[0m \u001b[1;32mNone\u001b[0m\u001b[1;33m\u001b[0m\u001b[1;33m\u001b[0m\u001b[0m\n\u001b[0m\u001b[0;32m    680\u001b[0m         \u001b[1;32mreturn\u001b[0m \u001b[0mself\u001b[0m\u001b[1;33m.\u001b[0m\u001b[0mdecodevalue\u001b[0m\u001b[1;33m(\u001b[0m\u001b[0mvalue\u001b[0m\u001b[1;33m)\u001b[0m\u001b[1;33m\u001b[0m\u001b[1;33m\u001b[0m\u001b[0m\n\u001b[0;32m    681\u001b[0m \u001b[1;33m\u001b[0m\u001b[0m\n",
      "\u001b[1;31mKeyError\u001b[0m: ''"
     ]
    }
   ],
   "source": [
    "import os\n",
    "os.environ[\"\"]"
   ]
  },
  {
   "cell_type": "code",
   "execution_count": 2,
   "id": "51d74a7e",
   "metadata": {},
   "outputs": [],
   "source": [
    "import os\n",
    "os.environ[\"DJANGO_SETTINGS_MODULE\"] = \"mydjango13.settings\"\n",
    "os.environ[\"DJANGO_ALLOW_ASYNC_UNSAFE\"] = \"true\"\n",
    "\n",
    "import django\n",
    "django.setup()"
   ]
  },
  {
   "cell_type": "code",
   "execution_count": 3,
   "id": "c184b3cd",
   "metadata": {},
   "outputs": [],
   "source": [
    "from mall.models import Shop"
   ]
  },
  {
   "cell_type": "code",
   "execution_count": 4,
   "id": "4ea1b00b",
   "metadata": {},
   "outputs": [
    {
     "name": "stderr",
     "output_type": "stream",
     "text": [
      "(0.000) SELECT \"mall_shop\".\"id\", \"mall_shop\".\"name\", \"mall_shop\".\"description\", \"mall_shop\".\"telephone\", \"mall_shop\".\"photo\", \"mall_shop\".\"created_at\", \"mall_shop\".\"updated_at\" FROM \"mall_shop\" ORDER BY \"mall_shop\".\"id\" ASC LIMIT 21; args=()\n"
     ]
    },
    {
     "data": {
      "text/plain": [
       "<QuerySet [<Shop: Shop object (10)>, <Shop: Shop object (11)>]>"
      ]
     },
     "execution_count": 4,
     "metadata": {},
     "output_type": "execute_result"
    }
   ],
   "source": [
    "Shop.objects.all()"
   ]
  },
  {
   "cell_type": "code",
   "execution_count": 5,
   "id": "1fbacac1",
   "metadata": {},
   "outputs": [
    {
     "data": {
      "text/plain": [
       "mall.models.Shop"
      ]
     },
     "execution_count": 5,
     "metadata": {},
     "output_type": "execute_result"
    }
   ],
   "source": [
    "Shop"
   ]
  },
  {
   "cell_type": "markdown",
   "id": "9af2c9f9",
   "metadata": {},
   "source": [
    "# Create"
   ]
  },
  {
   "cell_type": "code",
   "execution_count": 6,
   "id": "659bfc8c",
   "metadata": {},
   "outputs": [],
   "source": [
    "shop = Shop() # FirstShop(o), first_shop(x), firstshop(x)\n",
    "shop.name = \"투썸플레이스\"\n",
    "shop.telephone = \"042-1234-1234\""
   ]
  },
  {
   "cell_type": "code",
   "execution_count": 7,
   "id": "4d020e0c",
   "metadata": {},
   "outputs": [
    {
     "name": "stderr",
     "output_type": "stream",
     "text": [
      "(0.031) INSERT INTO \"mall_shop\" (\"name\", \"description\", \"telephone\", \"photo\", \"created_at\", \"updated_at\") VALUES ('투썸플레이스', '', '042-1234-1234', '', '2021-12-01 06:41:39.359737', '2021-12-01 06:41:39.359737'); args=['투썸플레이스', '', '042-1234-1234', '', '2021-12-01 06:41:39.359737', '2021-12-01 06:41:39.359737']\n"
     ]
    }
   ],
   "source": [
    "shop.save()"
   ]
  },
  {
   "cell_type": "code",
   "execution_count": 8,
   "id": "9ac85525",
   "metadata": {},
   "outputs": [
    {
     "name": "stderr",
     "output_type": "stream",
     "text": [
      "(0.016) INSERT INTO \"mall_shop\" (\"name\", \"description\", \"telephone\", \"photo\", \"created_at\", \"updated_at\") VALUES ('셀프24시빨래방', '', '042-1234-4321', '', '2021-12-01 06:41:39.909779', '2021-12-01 06:41:39.909779'); args=['셀프24시빨래방', '', '042-1234-4321', '', '2021-12-01 06:41:39.909779', '2021-12-01 06:41:39.909779']\n"
     ]
    },
    {
     "data": {
      "text/plain": [
       "<Shop: Shop object (12)>"
      ]
     },
     "execution_count": 8,
     "metadata": {},
     "output_type": "execute_result"
    }
   ],
   "source": [
    "Shop.objects.create(\n",
    "    name=\"셀프24시빨래방\",\n",
    "    telephone=\"042-1234-4321\",\n",
    ")\n",
    "shop"
   ]
  },
  {
   "cell_type": "markdown",
   "id": "4305210e",
   "metadata": {},
   "source": [
    "# Select"
   ]
  },
  {
   "cell_type": "code",
   "execution_count": 9,
   "id": "1457fd95",
   "metadata": {},
   "outputs": [],
   "source": [
    "qs = Shop.objects.all()"
   ]
  },
  {
   "cell_type": "code",
   "execution_count": 10,
   "id": "e4eebf99",
   "metadata": {
    "scrolled": true
   },
   "outputs": [
    {
     "name": "stderr",
     "output_type": "stream",
     "text": [
      "(0.000) SELECT \"mall_shop\".\"id\", \"mall_shop\".\"name\", \"mall_shop\".\"description\", \"mall_shop\".\"telephone\", \"mall_shop\".\"photo\", \"mall_shop\".\"created_at\", \"mall_shop\".\"updated_at\" FROM \"mall_shop\" ORDER BY \"mall_shop\".\"id\" ASC; args=()\n"
     ]
    },
    {
     "name": "stdout",
     "output_type": "stream",
     "text": [
      "10 투썸플레이스 042-1234-1234\n",
      "11 셀프24시빨래방 042-1234-4321\n",
      "12 투썸플레이스 042-1234-1234\n",
      "13 셀프24시빨래방 042-1234-4321\n"
     ]
    }
   ],
   "source": [
    "for shop in qs:\n",
    "    print(shop.pk, shop.name, shop.telephone)"
   ]
  },
  {
   "cell_type": "code",
   "execution_count": null,
   "id": "f942e2c4",
   "metadata": {},
   "outputs": [],
   "source": [
    "# qs.delete()"
   ]
  },
  {
   "cell_type": "code",
   "execution_count": 11,
   "id": "c7ddc707",
   "metadata": {},
   "outputs": [
    {
     "name": "stderr",
     "output_type": "stream",
     "text": [
      "(0.000) SELECT \"mall_shop\".\"id\", \"mall_shop\".\"name\", \"mall_shop\".\"description\", \"mall_shop\".\"telephone\", \"mall_shop\".\"photo\", \"mall_shop\".\"created_at\", \"mall_shop\".\"updated_at\" FROM \"mall_shop\" ORDER BY \"mall_shop\".\"id\" DESC LIMIT 21; args=()\n"
     ]
    },
    {
     "data": {
      "text/plain": [
       "<QuerySet [<Shop: Shop object (13)>, <Shop: Shop object (12)>, <Shop: Shop object (11)>, <Shop: Shop object (10)>]>"
      ]
     },
     "execution_count": 11,
     "metadata": {},
     "output_type": "execute_result"
    }
   ],
   "source": [
    "qs.order_by(\"-id\")"
   ]
  },
  {
   "cell_type": "markdown",
   "id": "d43249e6",
   "metadata": {},
   "source": [
    "# 데이터 뻥튀기"
   ]
  },
  {
   "cell_type": "code",
   "execution_count": 16,
   "id": "c045e60f",
   "metadata": {
    "collapsed": true
   },
   "outputs": [
    {
     "name": "stdout",
     "output_type": "stream",
     "text": [
      "가게명 041-1234-9001\n"
     ]
    },
    {
     "name": "stderr",
     "output_type": "stream",
     "text": [
      "(0.016) INSERT INTO \"mall_shop\" (\"name\", \"description\", \"telephone\", \"photo\", \"created_at\", \"updated_at\") VALUES ('가게명', '', '041-1234-9001', '', '2021-12-01 06:45:23.408446', '2021-12-01 06:45:23.408446'); args=['가게명', '', '041-1234-9001', '', '2021-12-01 06:45:23.408446', '2021-12-01 06:45:23.408446']\n"
     ]
    },
    {
     "name": "stdout",
     "output_type": "stream",
     "text": [
      "가게명 041-1234-9002\n"
     ]
    },
    {
     "name": "stderr",
     "output_type": "stream",
     "text": [
      "(0.015) INSERT INTO \"mall_shop\" (\"name\", \"description\", \"telephone\", \"photo\", \"created_at\", \"updated_at\") VALUES ('가게명', '', '041-1234-9002', '', '2021-12-01 06:45:23.431029', '2021-12-01 06:45:23.431029'); args=['가게명', '', '041-1234-9002', '', '2021-12-01 06:45:23.431029', '2021-12-01 06:45:23.431029']\n"
     ]
    },
    {
     "name": "stdout",
     "output_type": "stream",
     "text": [
      "가게명 041-1234-9003\n"
     ]
    },
    {
     "name": "stderr",
     "output_type": "stream",
     "text": [
      "(0.016) INSERT INTO \"mall_shop\" (\"name\", \"description\", \"telephone\", \"photo\", \"created_at\", \"updated_at\") VALUES ('가게명', '', '041-1234-9003', '', '2021-12-01 06:45:23.441001', '2021-12-01 06:45:23.441001'); args=['가게명', '', '041-1234-9003', '', '2021-12-01 06:45:23.441001', '2021-12-01 06:45:23.441001']\n"
     ]
    },
    {
     "name": "stdout",
     "output_type": "stream",
     "text": [
      "가게명 041-1234-9004\n"
     ]
    },
    {
     "name": "stderr",
     "output_type": "stream",
     "text": [
      "(0.015) INSERT INTO \"mall_shop\" (\"name\", \"description\", \"telephone\", \"photo\", \"created_at\", \"updated_at\") VALUES ('가게명', '', '041-1234-9004', '', '2021-12-01 06:45:23.454008', '2021-12-01 06:45:23.454008'); args=['가게명', '', '041-1234-9004', '', '2021-12-01 06:45:23.454008', '2021-12-01 06:45:23.454008']\n"
     ]
    },
    {
     "name": "stdout",
     "output_type": "stream",
     "text": [
      "가게명 041-1234-9005\n"
     ]
    },
    {
     "name": "stderr",
     "output_type": "stream",
     "text": [
      "(0.016) INSERT INTO \"mall_shop\" (\"name\", \"description\", \"telephone\", \"photo\", \"created_at\", \"updated_at\") VALUES ('가게명', '', '041-1234-9005', '', '2021-12-01 06:45:23.471964', '2021-12-01 06:45:23.471964'); args=['가게명', '', '041-1234-9005', '', '2021-12-01 06:45:23.471964', '2021-12-01 06:45:23.471964']\n"
     ]
    },
    {
     "name": "stdout",
     "output_type": "stream",
     "text": [
      "가게명 041-1234-9006\n"
     ]
    },
    {
     "name": "stderr",
     "output_type": "stream",
     "text": [
      "(0.016) INSERT INTO \"mall_shop\" (\"name\", \"description\", \"telephone\", \"photo\", \"created_at\", \"updated_at\") VALUES ('가게명', '', '041-1234-9006', '', '2021-12-01 06:45:23.486920', '2021-12-01 06:45:23.486920'); args=['가게명', '', '041-1234-9006', '', '2021-12-01 06:45:23.486920', '2021-12-01 06:45:23.486920']\n"
     ]
    },
    {
     "name": "stdout",
     "output_type": "stream",
     "text": [
      "가게명 041-1234-9007\n"
     ]
    },
    {
     "name": "stderr",
     "output_type": "stream",
     "text": [
      "(0.000) INSERT INTO \"mall_shop\" (\"name\", \"description\", \"telephone\", \"photo\", \"created_at\", \"updated_at\") VALUES ('가게명', '', '041-1234-9007', '', '2021-12-01 06:45:23.500882', '2021-12-01 06:45:23.500882'); args=['가게명', '', '041-1234-9007', '', '2021-12-01 06:45:23.500882', '2021-12-01 06:45:23.500882']\n"
     ]
    },
    {
     "name": "stdout",
     "output_type": "stream",
     "text": [
      "가게명 041-1234-9008\n"
     ]
    },
    {
     "name": "stderr",
     "output_type": "stream",
     "text": [
      "(0.000) INSERT INTO \"mall_shop\" (\"name\", \"description\", \"telephone\", \"photo\", \"created_at\", \"updated_at\") VALUES ('가게명', '', '041-1234-9008', '', '2021-12-01 06:45:23.513844', '2021-12-01 06:45:23.513844'); args=['가게명', '', '041-1234-9008', '', '2021-12-01 06:45:23.513844', '2021-12-01 06:45:23.513844']\n"
     ]
    },
    {
     "name": "stdout",
     "output_type": "stream",
     "text": [
      "가게명 041-1234-9009\n"
     ]
    },
    {
     "name": "stderr",
     "output_type": "stream",
     "text": [
      "(0.000) INSERT INTO \"mall_shop\" (\"name\", \"description\", \"telephone\", \"photo\", \"created_at\", \"updated_at\") VALUES ('가게명', '', '041-1234-9009', '', '2021-12-01 06:45:23.528806', '2021-12-01 06:45:23.528806'); args=['가게명', '', '041-1234-9009', '', '2021-12-01 06:45:23.528806', '2021-12-01 06:45:23.528806']\n"
     ]
    },
    {
     "name": "stdout",
     "output_type": "stream",
     "text": [
      "가게명 041-1234-9010\n"
     ]
    },
    {
     "name": "stderr",
     "output_type": "stream",
     "text": [
      "(0.000) INSERT INTO \"mall_shop\" (\"name\", \"description\", \"telephone\", \"photo\", \"created_at\", \"updated_at\") VALUES ('가게명', '', '041-1234-9010', '', '2021-12-01 06:45:23.542784', '2021-12-01 06:45:23.542784'); args=['가게명', '', '041-1234-9010', '', '2021-12-01 06:45:23.542784', '2021-12-01 06:45:23.542784']\n"
     ]
    },
    {
     "name": "stdout",
     "output_type": "stream",
     "text": [
      "가게명 041-1234-9011\n"
     ]
    },
    {
     "name": "stderr",
     "output_type": "stream",
     "text": [
      "(0.000) INSERT INTO \"mall_shop\" (\"name\", \"description\", \"telephone\", \"photo\", \"created_at\", \"updated_at\") VALUES ('가게명', '', '041-1234-9011', '', '2021-12-01 06:45:23.558724', '2021-12-01 06:45:23.558724'); args=['가게명', '', '041-1234-9011', '', '2021-12-01 06:45:23.558724', '2021-12-01 06:45:23.558724']\n"
     ]
    },
    {
     "name": "stdout",
     "output_type": "stream",
     "text": [
      "가게명 041-1234-9012\n"
     ]
    },
    {
     "name": "stderr",
     "output_type": "stream",
     "text": [
      "(0.016) INSERT INTO \"mall_shop\" (\"name\", \"description\", \"telephone\", \"photo\", \"created_at\", \"updated_at\") VALUES ('가게명', '', '041-1234-9012', '', '2021-12-01 06:45:23.571700', '2021-12-01 06:45:23.571700'); args=['가게명', '', '041-1234-9012', '', '2021-12-01 06:45:23.571700', '2021-12-01 06:45:23.571700']\n"
     ]
    },
    {
     "name": "stdout",
     "output_type": "stream",
     "text": [
      "가게명 041-1234-9013\n"
     ]
    },
    {
     "name": "stderr",
     "output_type": "stream",
     "text": [
      "(0.015) INSERT INTO \"mall_shop\" (\"name\", \"description\", \"telephone\", \"photo\", \"created_at\", \"updated_at\") VALUES ('가게명', '', '041-1234-9013', '', '2021-12-01 06:45:23.586650', '2021-12-01 06:45:23.586650'); args=['가게명', '', '041-1234-9013', '', '2021-12-01 06:45:23.586650', '2021-12-01 06:45:23.586650']\n"
     ]
    },
    {
     "name": "stdout",
     "output_type": "stream",
     "text": [
      "가게명 041-1234-9014\n"
     ]
    },
    {
     "name": "stderr",
     "output_type": "stream",
     "text": [
      "(0.016) INSERT INTO \"mall_shop\" (\"name\", \"description\", \"telephone\", \"photo\", \"created_at\", \"updated_at\") VALUES ('가게명', '', '041-1234-9014', '', '2021-12-01 06:45:23.601612', '2021-12-01 06:45:23.601612'); args=['가게명', '', '041-1234-9014', '', '2021-12-01 06:45:23.601612', '2021-12-01 06:45:23.601612']\n"
     ]
    },
    {
     "name": "stdout",
     "output_type": "stream",
     "text": [
      "가게명 041-1234-9015\n"
     ]
    },
    {
     "name": "stderr",
     "output_type": "stream",
     "text": [
      "(0.016) INSERT INTO \"mall_shop\" (\"name\", \"description\", \"telephone\", \"photo\", \"created_at\", \"updated_at\") VALUES ('가게명', '', '041-1234-9015', '', '2021-12-01 06:45:23.614578', '2021-12-01 06:45:23.614578'); args=['가게명', '', '041-1234-9015', '', '2021-12-01 06:45:23.614578', '2021-12-01 06:45:23.614578']\n"
     ]
    },
    {
     "name": "stdout",
     "output_type": "stream",
     "text": [
      "가게명 041-1234-9016\n"
     ]
    },
    {
     "name": "stderr",
     "output_type": "stream",
     "text": [
      "(0.015) INSERT INTO \"mall_shop\" (\"name\", \"description\", \"telephone\", \"photo\", \"created_at\", \"updated_at\") VALUES ('가게명', '', '041-1234-9016', '', '2021-12-01 06:45:23.630535', '2021-12-01 06:45:23.630535'); args=['가게명', '', '041-1234-9016', '', '2021-12-01 06:45:23.630535', '2021-12-01 06:45:23.630535']\n"
     ]
    },
    {
     "name": "stdout",
     "output_type": "stream",
     "text": [
      "가게명 041-1234-9017\n"
     ]
    },
    {
     "name": "stderr",
     "output_type": "stream",
     "text": [
      "(0.000) INSERT INTO \"mall_shop\" (\"name\", \"description\", \"telephone\", \"photo\", \"created_at\", \"updated_at\") VALUES ('가게명', '', '041-1234-9017', '', '2021-12-01 06:45:23.642502', '2021-12-01 06:45:23.642502'); args=['가게명', '', '041-1234-9017', '', '2021-12-01 06:45:23.642502', '2021-12-01 06:45:23.642502']\n"
     ]
    },
    {
     "name": "stdout",
     "output_type": "stream",
     "text": [
      "가게명 041-1234-9018\n"
     ]
    },
    {
     "name": "stderr",
     "output_type": "stream",
     "text": [
      "(0.000) INSERT INTO \"mall_shop\" (\"name\", \"description\", \"telephone\", \"photo\", \"created_at\", \"updated_at\") VALUES ('가게명', '', '041-1234-9018', '', '2021-12-01 06:45:23.653472', '2021-12-01 06:45:23.653472'); args=['가게명', '', '041-1234-9018', '', '2021-12-01 06:45:23.653472', '2021-12-01 06:45:23.653472']\n"
     ]
    },
    {
     "name": "stdout",
     "output_type": "stream",
     "text": [
      "가게명 041-1234-9019\n"
     ]
    },
    {
     "name": "stderr",
     "output_type": "stream",
     "text": [
      "(0.000) INSERT INTO \"mall_shop\" (\"name\", \"description\", \"telephone\", \"photo\", \"created_at\", \"updated_at\") VALUES ('가게명', '', '041-1234-9019', '', '2021-12-01 06:45:23.667438', '2021-12-01 06:45:23.667438'); args=['가게명', '', '041-1234-9019', '', '2021-12-01 06:45:23.667438', '2021-12-01 06:45:23.667438']\n"
     ]
    },
    {
     "name": "stdout",
     "output_type": "stream",
     "text": [
      "가게명 041-1234-9020\n"
     ]
    },
    {
     "name": "stderr",
     "output_type": "stream",
     "text": [
      "(0.015) INSERT INTO \"mall_shop\" (\"name\", \"description\", \"telephone\", \"photo\", \"created_at\", \"updated_at\") VALUES ('가게명', '', '041-1234-9020', '', '2021-12-01 06:45:23.680400', '2021-12-01 06:45:23.680400'); args=['가게명', '', '041-1234-9020', '', '2021-12-01 06:45:23.680400', '2021-12-01 06:45:23.680400']\n"
     ]
    },
    {
     "name": "stdout",
     "output_type": "stream",
     "text": [
      "가게명 041-1234-9021\n"
     ]
    },
    {
     "name": "stderr",
     "output_type": "stream",
     "text": [
      "(0.000) INSERT INTO \"mall_shop\" (\"name\", \"description\", \"telephone\", \"photo\", \"created_at\", \"updated_at\") VALUES ('가게명', '', '041-1234-9021', '', '2021-12-01 06:45:23.691370', '2021-12-01 06:45:23.691370'); args=['가게명', '', '041-1234-9021', '', '2021-12-01 06:45:23.691370', '2021-12-01 06:45:23.691370']\n"
     ]
    },
    {
     "name": "stdout",
     "output_type": "stream",
     "text": [
      "가게명 041-1234-9022\n"
     ]
    },
    {
     "name": "stderr",
     "output_type": "stream",
     "text": [
      "(0.000) INSERT INTO \"mall_shop\" (\"name\", \"description\", \"telephone\", \"photo\", \"created_at\", \"updated_at\") VALUES ('가게명', '', '041-1234-9022', '', '2021-12-01 06:45:23.699349', '2021-12-01 06:45:23.699349'); args=['가게명', '', '041-1234-9022', '', '2021-12-01 06:45:23.699349', '2021-12-01 06:45:23.699349']\n"
     ]
    },
    {
     "name": "stdout",
     "output_type": "stream",
     "text": [
      "가게명 041-1234-9023\n"
     ]
    },
    {
     "name": "stderr",
     "output_type": "stream",
     "text": [
      "(0.047) INSERT INTO \"mall_shop\" (\"name\", \"description\", \"telephone\", \"photo\", \"created_at\", \"updated_at\") VALUES ('가게명', '', '041-1234-9023', '', '2021-12-01 06:45:23.711317', '2021-12-01 06:45:23.711317'); args=['가게명', '', '041-1234-9023', '', '2021-12-01 06:45:23.711317', '2021-12-01 06:45:23.711317']\n"
     ]
    },
    {
     "name": "stdout",
     "output_type": "stream",
     "text": [
      "가게명 041-1234-9024\n"
     ]
    },
    {
     "name": "stderr",
     "output_type": "stream",
     "text": [
      "(0.000) INSERT INTO \"mall_shop\" (\"name\", \"description\", \"telephone\", \"photo\", \"created_at\", \"updated_at\") VALUES ('가게명', '', '041-1234-9024', '', '2021-12-01 06:45:23.750682', '2021-12-01 06:45:23.750682'); args=['가게명', '', '041-1234-9024', '', '2021-12-01 06:45:23.750682', '2021-12-01 06:45:23.750682']\n"
     ]
    },
    {
     "name": "stdout",
     "output_type": "stream",
     "text": [
      "가게명 041-1234-9025\n"
     ]
    },
    {
     "name": "stderr",
     "output_type": "stream",
     "text": [
      "(0.016) INSERT INTO \"mall_shop\" (\"name\", \"description\", \"telephone\", \"photo\", \"created_at\", \"updated_at\") VALUES ('가게명', '', '041-1234-9025', '', '2021-12-01 06:45:23.760653', '2021-12-01 06:45:23.760653'); args=['가게명', '', '041-1234-9025', '', '2021-12-01 06:45:23.760653', '2021-12-01 06:45:23.760653']\n"
     ]
    },
    {
     "name": "stdout",
     "output_type": "stream",
     "text": [
      "가게명 041-1234-9026\n"
     ]
    },
    {
     "name": "stderr",
     "output_type": "stream",
     "text": [
      "(0.000) INSERT INTO \"mall_shop\" (\"name\", \"description\", \"telephone\", \"photo\", \"created_at\", \"updated_at\") VALUES ('가게명', '', '041-1234-9026', '', '2021-12-01 06:45:23.781696', '2021-12-01 06:45:23.781696'); args=['가게명', '', '041-1234-9026', '', '2021-12-01 06:45:23.781696', '2021-12-01 06:45:23.781696']\n"
     ]
    },
    {
     "name": "stdout",
     "output_type": "stream",
     "text": [
      "가게명 041-1234-9027\n"
     ]
    },
    {
     "name": "stderr",
     "output_type": "stream",
     "text": [
      "(0.015) INSERT INTO \"mall_shop\" (\"name\", \"description\", \"telephone\", \"photo\", \"created_at\", \"updated_at\") VALUES ('가게명', '', '041-1234-9027', '', '2021-12-01 06:45:23.795662', '2021-12-01 06:45:23.796660'); args=['가게명', '', '041-1234-9027', '', '2021-12-01 06:45:23.795662', '2021-12-01 06:45:23.796660']\n"
     ]
    },
    {
     "name": "stdout",
     "output_type": "stream",
     "text": [
      "가게명 041-1234-9028\n"
     ]
    },
    {
     "name": "stderr",
     "output_type": "stream",
     "text": [
      "(0.016) INSERT INTO \"mall_shop\" (\"name\", \"description\", \"telephone\", \"photo\", \"created_at\", \"updated_at\") VALUES ('가게명', '', '041-1234-9028', '', '2021-12-01 06:45:23.814653', '2021-12-01 06:45:23.814653'); args=['가게명', '', '041-1234-9028', '', '2021-12-01 06:45:23.814653', '2021-12-01 06:45:23.814653']\n"
     ]
    },
    {
     "name": "stdout",
     "output_type": "stream",
     "text": [
      "가게명 041-1234-9029\n"
     ]
    },
    {
     "name": "stderr",
     "output_type": "stream",
     "text": [
      "(0.000) INSERT INTO \"mall_shop\" (\"name\", \"description\", \"telephone\", \"photo\", \"created_at\", \"updated_at\") VALUES ('가게명', '', '041-1234-9029', '', '2021-12-01 06:45:23.827616', '2021-12-01 06:45:23.827616'); args=['가게명', '', '041-1234-9029', '', '2021-12-01 06:45:23.827616', '2021-12-01 06:45:23.827616']\n"
     ]
    },
    {
     "name": "stdout",
     "output_type": "stream",
     "text": [
      "가게명 041-1234-9030\n"
     ]
    },
    {
     "name": "stderr",
     "output_type": "stream",
     "text": [
      "(0.015) INSERT INTO \"mall_shop\" (\"name\", \"description\", \"telephone\", \"photo\", \"created_at\", \"updated_at\") VALUES ('가게명', '', '041-1234-9030', '', '2021-12-01 06:45:23.836591', '2021-12-01 06:45:23.836591'); args=['가게명', '', '041-1234-9030', '', '2021-12-01 06:45:23.836591', '2021-12-01 06:45:23.836591']\n"
     ]
    },
    {
     "name": "stdout",
     "output_type": "stream",
     "text": [
      "가게명 041-1234-9031\n"
     ]
    },
    {
     "name": "stderr",
     "output_type": "stream",
     "text": [
      "(0.000) INSERT INTO \"mall_shop\" (\"name\", \"description\", \"telephone\", \"photo\", \"created_at\", \"updated_at\") VALUES ('가게명', '', '041-1234-9031', '', '2021-12-01 06:45:23.846565', '2021-12-01 06:45:23.846565'); args=['가게명', '', '041-1234-9031', '', '2021-12-01 06:45:23.846565', '2021-12-01 06:45:23.846565']\n"
     ]
    },
    {
     "name": "stdout",
     "output_type": "stream",
     "text": [
      "가게명 041-1234-9032\n"
     ]
    },
    {
     "name": "stderr",
     "output_type": "stream",
     "text": [
      "(0.000) INSERT INTO \"mall_shop\" (\"name\", \"description\", \"telephone\", \"photo\", \"created_at\", \"updated_at\") VALUES ('가게명', '', '041-1234-9032', '', '2021-12-01 06:45:23.856538', '2021-12-01 06:45:23.856538'); args=['가게명', '', '041-1234-9032', '', '2021-12-01 06:45:23.856538', '2021-12-01 06:45:23.856538']\n"
     ]
    },
    {
     "name": "stdout",
     "output_type": "stream",
     "text": [
      "가게명 041-1234-9033\n"
     ]
    },
    {
     "name": "stderr",
     "output_type": "stream",
     "text": [
      "(0.016) INSERT INTO \"mall_shop\" (\"name\", \"description\", \"telephone\", \"photo\", \"created_at\", \"updated_at\") VALUES ('가게명', '', '041-1234-9033', '', '2021-12-01 06:45:23.866511', '2021-12-01 06:45:23.866511'); args=['가게명', '', '041-1234-9033', '', '2021-12-01 06:45:23.866511', '2021-12-01 06:45:23.866511']\n"
     ]
    },
    {
     "name": "stdout",
     "output_type": "stream",
     "text": [
      "가게명 041-1234-9034\n"
     ]
    },
    {
     "name": "stderr",
     "output_type": "stream",
     "text": [
      "(0.000) INSERT INTO \"mall_shop\" (\"name\", \"description\", \"telephone\", \"photo\", \"created_at\", \"updated_at\") VALUES ('가게명', '', '041-1234-9034', '', '2021-12-01 06:45:23.878481', '2021-12-01 06:45:23.878481'); args=['가게명', '', '041-1234-9034', '', '2021-12-01 06:45:23.878481', '2021-12-01 06:45:23.878481']\n"
     ]
    },
    {
     "name": "stdout",
     "output_type": "stream",
     "text": [
      "가게명 041-1234-9035\n"
     ]
    },
    {
     "name": "stderr",
     "output_type": "stream",
     "text": [
      "(0.000) INSERT INTO \"mall_shop\" (\"name\", \"description\", \"telephone\", \"photo\", \"created_at\", \"updated_at\") VALUES ('가게명', '', '041-1234-9035', '', '2021-12-01 06:45:23.890449', '2021-12-01 06:45:23.890449'); args=['가게명', '', '041-1234-9035', '', '2021-12-01 06:45:23.890449', '2021-12-01 06:45:23.890449']\n"
     ]
    },
    {
     "name": "stdout",
     "output_type": "stream",
     "text": [
      "가게명 041-1234-9036\n"
     ]
    },
    {
     "name": "stderr",
     "output_type": "stream",
     "text": [
      "(0.000) INSERT INTO \"mall_shop\" (\"name\", \"description\", \"telephone\", \"photo\", \"created_at\", \"updated_at\") VALUES ('가게명', '', '041-1234-9036', '', '2021-12-01 06:45:23.906404', '2021-12-01 06:45:23.906404'); args=['가게명', '', '041-1234-9036', '', '2021-12-01 06:45:23.906404', '2021-12-01 06:45:23.906404']\n"
     ]
    },
    {
     "name": "stdout",
     "output_type": "stream",
     "text": [
      "가게명 041-1234-9037\n"
     ]
    },
    {
     "name": "stderr",
     "output_type": "stream",
     "text": [
      "(0.000) INSERT INTO \"mall_shop\" (\"name\", \"description\", \"telephone\", \"photo\", \"created_at\", \"updated_at\") VALUES ('가게명', '', '041-1234-9037', '', '2021-12-01 06:45:23.920384', '2021-12-01 06:45:23.920384'); args=['가게명', '', '041-1234-9037', '', '2021-12-01 06:45:23.920384', '2021-12-01 06:45:23.920384']\n"
     ]
    },
    {
     "name": "stdout",
     "output_type": "stream",
     "text": [
      "가게명 041-1234-9038\n"
     ]
    },
    {
     "name": "stderr",
     "output_type": "stream",
     "text": [
      "(0.000) INSERT INTO \"mall_shop\" (\"name\", \"description\", \"telephone\", \"photo\", \"created_at\", \"updated_at\") VALUES ('가게명', '', '041-1234-9038', '', '2021-12-01 06:45:23.936326', '2021-12-01 06:45:23.936326'); args=['가게명', '', '041-1234-9038', '', '2021-12-01 06:45:23.936326', '2021-12-01 06:45:23.936326']\n"
     ]
    },
    {
     "name": "stdout",
     "output_type": "stream",
     "text": [
      "가게명 041-1234-9039\n"
     ]
    },
    {
     "name": "stderr",
     "output_type": "stream",
     "text": [
      "(0.000) INSERT INTO \"mall_shop\" (\"name\", \"description\", \"telephone\", \"photo\", \"created_at\", \"updated_at\") VALUES ('가게명', '', '041-1234-9039', '', '2021-12-01 06:45:23.948294', '2021-12-01 06:45:23.948294'); args=['가게명', '', '041-1234-9039', '', '2021-12-01 06:45:23.948294', '2021-12-01 06:45:23.948294']\n"
     ]
    },
    {
     "name": "stdout",
     "output_type": "stream",
     "text": [
      "가게명 041-1234-9040\n"
     ]
    },
    {
     "name": "stderr",
     "output_type": "stream",
     "text": [
      "(0.015) INSERT INTO \"mall_shop\" (\"name\", \"description\", \"telephone\", \"photo\", \"created_at\", \"updated_at\") VALUES ('가게명', '', '041-1234-9040', '', '2021-12-01 06:45:23.959267', '2021-12-01 06:45:23.959267'); args=['가게명', '', '041-1234-9040', '', '2021-12-01 06:45:23.959267', '2021-12-01 06:45:23.959267']\n"
     ]
    },
    {
     "name": "stdout",
     "output_type": "stream",
     "text": [
      "가게명 041-1234-9041\n"
     ]
    },
    {
     "name": "stderr",
     "output_type": "stream",
     "text": [
      "(0.016) INSERT INTO \"mall_shop\" (\"name\", \"description\", \"telephone\", \"photo\", \"created_at\", \"updated_at\") VALUES ('가게명', '', '041-1234-9041', '', '2021-12-01 06:45:23.969566', '2021-12-01 06:45:23.969566'); args=['가게명', '', '041-1234-9041', '', '2021-12-01 06:45:23.969566', '2021-12-01 06:45:23.969566']\n"
     ]
    },
    {
     "name": "stdout",
     "output_type": "stream",
     "text": [
      "가게명 041-1234-9042\n"
     ]
    },
    {
     "name": "stderr",
     "output_type": "stream",
     "text": [
      "(0.016) INSERT INTO \"mall_shop\" (\"name\", \"description\", \"telephone\", \"photo\", \"created_at\", \"updated_at\") VALUES ('가게명', '', '041-1234-9042', '', '2021-12-01 06:45:23.993685', '2021-12-01 06:45:23.993685'); args=['가게명', '', '041-1234-9042', '', '2021-12-01 06:45:23.993685', '2021-12-01 06:45:23.993685']\n"
     ]
    },
    {
     "name": "stdout",
     "output_type": "stream",
     "text": [
      "가게명 041-1234-9043\n"
     ]
    },
    {
     "name": "stderr",
     "output_type": "stream",
     "text": [
      "(0.015) INSERT INTO \"mall_shop\" (\"name\", \"description\", \"telephone\", \"photo\", \"created_at\", \"updated_at\") VALUES ('가게명', '', '041-1234-9043', '', '2021-12-01 06:45:24.005416', '2021-12-01 06:45:24.005416'); args=['가게명', '', '041-1234-9043', '', '2021-12-01 06:45:24.005416', '2021-12-01 06:45:24.005416']\n"
     ]
    },
    {
     "name": "stdout",
     "output_type": "stream",
     "text": [
      "가게명 041-1234-9044\n"
     ]
    },
    {
     "name": "stderr",
     "output_type": "stream",
     "text": [
      "(0.000) INSERT INTO \"mall_shop\" (\"name\", \"description\", \"telephone\", \"photo\", \"created_at\", \"updated_at\") VALUES ('가게명', '', '041-1234-9044', '', '2021-12-01 06:45:24.015385', '2021-12-01 06:45:24.015385'); args=['가게명', '', '041-1234-9044', '', '2021-12-01 06:45:24.015385', '2021-12-01 06:45:24.015385']\n"
     ]
    },
    {
     "name": "stdout",
     "output_type": "stream",
     "text": [
      "가게명 041-1234-9045\n"
     ]
    },
    {
     "name": "stderr",
     "output_type": "stream",
     "text": [
      "(0.000) INSERT INTO \"mall_shop\" (\"name\", \"description\", \"telephone\", \"photo\", \"created_at\", \"updated_at\") VALUES ('가게명', '', '041-1234-9045', '', '2021-12-01 06:45:24.025356', '2021-12-01 06:45:24.025356'); args=['가게명', '', '041-1234-9045', '', '2021-12-01 06:45:24.025356', '2021-12-01 06:45:24.025356']\n"
     ]
    },
    {
     "name": "stdout",
     "output_type": "stream",
     "text": [
      "가게명 041-1234-9046\n"
     ]
    },
    {
     "name": "stderr",
     "output_type": "stream",
     "text": [
      "(0.016) INSERT INTO \"mall_shop\" (\"name\", \"description\", \"telephone\", \"photo\", \"created_at\", \"updated_at\") VALUES ('가게명', '', '041-1234-9046', '', '2021-12-01 06:45:24.038322', '2021-12-01 06:45:24.038322'); args=['가게명', '', '041-1234-9046', '', '2021-12-01 06:45:24.038322', '2021-12-01 06:45:24.038322']\n"
     ]
    },
    {
     "name": "stdout",
     "output_type": "stream",
     "text": [
      "가게명 041-1234-9047\n"
     ]
    },
    {
     "name": "stderr",
     "output_type": "stream",
     "text": [
      "(0.000) INSERT INTO \"mall_shop\" (\"name\", \"description\", \"telephone\", \"photo\", \"created_at\", \"updated_at\") VALUES ('가게명', '', '041-1234-9047', '', '2021-12-01 06:45:24.050290', '2021-12-01 06:45:24.050290'); args=['가게명', '', '041-1234-9047', '', '2021-12-01 06:45:24.050290', '2021-12-01 06:45:24.050290']\n"
     ]
    },
    {
     "name": "stdout",
     "output_type": "stream",
     "text": [
      "가게명 041-1234-9048\n"
     ]
    },
    {
     "name": "stderr",
     "output_type": "stream",
     "text": [
      "(0.000) INSERT INTO \"mall_shop\" (\"name\", \"description\", \"telephone\", \"photo\", \"created_at\", \"updated_at\") VALUES ('가게명', '', '041-1234-9048', '', '2021-12-01 06:45:24.063255', '2021-12-01 06:45:24.063255'); args=['가게명', '', '041-1234-9048', '', '2021-12-01 06:45:24.063255', '2021-12-01 06:45:24.063255']\n"
     ]
    },
    {
     "name": "stdout",
     "output_type": "stream",
     "text": [
      "가게명 041-1234-9049\n"
     ]
    },
    {
     "name": "stderr",
     "output_type": "stream",
     "text": [
      "(0.000) INSERT INTO \"mall_shop\" (\"name\", \"description\", \"telephone\", \"photo\", \"created_at\", \"updated_at\") VALUES ('가게명', '', '041-1234-9049', '', '2021-12-01 06:45:24.075212', '2021-12-01 06:45:24.075212'); args=['가게명', '', '041-1234-9049', '', '2021-12-01 06:45:24.075212', '2021-12-01 06:45:24.075212']\n"
     ]
    },
    {
     "name": "stdout",
     "output_type": "stream",
     "text": [
      "가게명 041-1234-9050\n"
     ]
    },
    {
     "name": "stderr",
     "output_type": "stream",
     "text": [
      "(0.015) INSERT INTO \"mall_shop\" (\"name\", \"description\", \"telephone\", \"photo\", \"created_at\", \"updated_at\") VALUES ('가게명', '', '041-1234-9050', '', '2021-12-01 06:45:24.086655', '2021-12-01 06:45:24.086655'); args=['가게명', '', '041-1234-9050', '', '2021-12-01 06:45:24.086655', '2021-12-01 06:45:24.086655']\n"
     ]
    },
    {
     "name": "stdout",
     "output_type": "stream",
     "text": [
      "가게명 041-1234-9051\n"
     ]
    },
    {
     "name": "stderr",
     "output_type": "stream",
     "text": [
      "(0.016) INSERT INTO \"mall_shop\" (\"name\", \"description\", \"telephone\", \"photo\", \"created_at\", \"updated_at\") VALUES ('가게명', '', '041-1234-9051', '', '2021-12-01 06:45:24.098625', '2021-12-01 06:45:24.098625'); args=['가게명', '', '041-1234-9051', '', '2021-12-01 06:45:24.098625', '2021-12-01 06:45:24.098625']\n"
     ]
    },
    {
     "name": "stdout",
     "output_type": "stream",
     "text": [
      "가게명 041-1234-9052\n"
     ]
    },
    {
     "name": "stderr",
     "output_type": "stream",
     "text": [
      "(0.000) INSERT INTO \"mall_shop\" (\"name\", \"description\", \"telephone\", \"photo\", \"created_at\", \"updated_at\") VALUES ('가게명', '', '041-1234-9052', '', '2021-12-01 06:45:24.112586', '2021-12-01 06:45:24.112586'); args=['가게명', '', '041-1234-9052', '', '2021-12-01 06:45:24.112586', '2021-12-01 06:45:24.112586']\n"
     ]
    },
    {
     "name": "stdout",
     "output_type": "stream",
     "text": [
      "가게명 041-1234-9053\n"
     ]
    },
    {
     "name": "stderr",
     "output_type": "stream",
     "text": [
      "(0.000) INSERT INTO \"mall_shop\" (\"name\", \"description\", \"telephone\", \"photo\", \"created_at\", \"updated_at\") VALUES ('가게명', '', '041-1234-9053', '', '2021-12-01 06:45:24.122466', '2021-12-01 06:45:24.122466'); args=['가게명', '', '041-1234-9053', '', '2021-12-01 06:45:24.122466', '2021-12-01 06:45:24.122466']\n"
     ]
    },
    {
     "name": "stdout",
     "output_type": "stream",
     "text": [
      "가게명 041-1234-9054\n"
     ]
    },
    {
     "name": "stderr",
     "output_type": "stream",
     "text": [
      "(0.015) INSERT INTO \"mall_shop\" (\"name\", \"description\", \"telephone\", \"photo\", \"created_at\", \"updated_at\") VALUES ('가게명', '', '041-1234-9054', '', '2021-12-01 06:45:24.131440', '2021-12-01 06:45:24.131440'); args=['가게명', '', '041-1234-9054', '', '2021-12-01 06:45:24.131440', '2021-12-01 06:45:24.131440']\n"
     ]
    },
    {
     "name": "stdout",
     "output_type": "stream",
     "text": [
      "가게명 041-1234-9055\n"
     ]
    },
    {
     "name": "stderr",
     "output_type": "stream",
     "text": [
      "(0.000) INSERT INTO \"mall_shop\" (\"name\", \"description\", \"telephone\", \"photo\", \"created_at\", \"updated_at\") VALUES ('가게명', '', '041-1234-9055', '', '2021-12-01 06:45:24.141414', '2021-12-01 06:45:24.141414'); args=['가게명', '', '041-1234-9055', '', '2021-12-01 06:45:24.141414', '2021-12-01 06:45:24.141414']\n"
     ]
    },
    {
     "name": "stdout",
     "output_type": "stream",
     "text": [
      "가게명 041-1234-9056\n"
     ]
    },
    {
     "name": "stderr",
     "output_type": "stream",
     "text": [
      "(0.000) INSERT INTO \"mall_shop\" (\"name\", \"description\", \"telephone\", \"photo\", \"created_at\", \"updated_at\") VALUES ('가게명', '', '041-1234-9056', '', '2021-12-01 06:45:24.150774', '2021-12-01 06:45:24.151771'); args=['가게명', '', '041-1234-9056', '', '2021-12-01 06:45:24.150774', '2021-12-01 06:45:24.151771']\n"
     ]
    },
    {
     "name": "stdout",
     "output_type": "stream",
     "text": [
      "가게명 041-1234-9057\n"
     ]
    },
    {
     "name": "stderr",
     "output_type": "stream",
     "text": [
      "(0.016) INSERT INTO \"mall_shop\" (\"name\", \"description\", \"telephone\", \"photo\", \"created_at\", \"updated_at\") VALUES ('가게명', '', '041-1234-9057', '', '2021-12-01 06:45:24.161744', '2021-12-01 06:45:24.161744'); args=['가게명', '', '041-1234-9057', '', '2021-12-01 06:45:24.161744', '2021-12-01 06:45:24.161744']\n"
     ]
    },
    {
     "name": "stdout",
     "output_type": "stream",
     "text": [
      "가게명 041-1234-9058\n"
     ]
    },
    {
     "name": "stderr",
     "output_type": "stream",
     "text": [
      "(0.000) INSERT INTO \"mall_shop\" (\"name\", \"description\", \"telephone\", \"photo\", \"created_at\", \"updated_at\") VALUES ('가게명', '', '041-1234-9058', '', '2021-12-01 06:45:24.172560', '2021-12-01 06:45:24.172560'); args=['가게명', '', '041-1234-9058', '', '2021-12-01 06:45:24.172560', '2021-12-01 06:45:24.172560']\n"
     ]
    },
    {
     "name": "stdout",
     "output_type": "stream",
     "text": [
      "가게명 041-1234-9059\n"
     ]
    },
    {
     "name": "stderr",
     "output_type": "stream",
     "text": [
      "(0.000) INSERT INTO \"mall_shop\" (\"name\", \"description\", \"telephone\", \"photo\", \"created_at\", \"updated_at\") VALUES ('가게명', '', '041-1234-9059', '', '2021-12-01 06:45:24.184370', '2021-12-01 06:45:24.184370'); args=['가게명', '', '041-1234-9059', '', '2021-12-01 06:45:24.184370', '2021-12-01 06:45:24.184370']\n"
     ]
    },
    {
     "name": "stdout",
     "output_type": "stream",
     "text": [
      "가게명 041-1234-9060\n"
     ]
    },
    {
     "name": "stderr",
     "output_type": "stream",
     "text": [
      "(0.016) INSERT INTO \"mall_shop\" (\"name\", \"description\", \"telephone\", \"photo\", \"created_at\", \"updated_at\") VALUES ('가게명', '', '041-1234-9060', '', '2021-12-01 06:45:24.196308', '2021-12-01 06:45:24.196308'); args=['가게명', '', '041-1234-9060', '', '2021-12-01 06:45:24.196308', '2021-12-01 06:45:24.196308']\n"
     ]
    },
    {
     "name": "stdout",
     "output_type": "stream",
     "text": [
      "가게명 041-1234-9061\n"
     ]
    },
    {
     "name": "stderr",
     "output_type": "stream",
     "text": [
      "(0.015) INSERT INTO \"mall_shop\" (\"name\", \"description\", \"telephone\", \"photo\", \"created_at\", \"updated_at\") VALUES ('가게명', '', '041-1234-9061', '', '2021-12-01 06:45:24.208274', '2021-12-01 06:45:24.208274'); args=['가게명', '', '041-1234-9061', '', '2021-12-01 06:45:24.208274', '2021-12-01 06:45:24.208274']\n"
     ]
    },
    {
     "name": "stdout",
     "output_type": "stream",
     "text": [
      "가게명 041-1234-9062\n"
     ]
    },
    {
     "name": "stderr",
     "output_type": "stream",
     "text": [
      "(0.000) INSERT INTO \"mall_shop\" (\"name\", \"description\", \"telephone\", \"photo\", \"created_at\", \"updated_at\") VALUES ('가게명', '', '041-1234-9062', '', '2021-12-01 06:45:24.219614', '2021-12-01 06:45:24.219614'); args=['가게명', '', '041-1234-9062', '', '2021-12-01 06:45:24.219614', '2021-12-01 06:45:24.219614']\n"
     ]
    },
    {
     "name": "stdout",
     "output_type": "stream",
     "text": [
      "가게명 041-1234-9063\n"
     ]
    },
    {
     "name": "stderr",
     "output_type": "stream",
     "text": [
      "(0.000) INSERT INTO \"mall_shop\" (\"name\", \"description\", \"telephone\", \"photo\", \"created_at\", \"updated_at\") VALUES ('가게명', '', '041-1234-9063', '', '2021-12-01 06:45:24.229571', '2021-12-01 06:45:24.229571'); args=['가게명', '', '041-1234-9063', '', '2021-12-01 06:45:24.229571', '2021-12-01 06:45:24.229571']\n"
     ]
    },
    {
     "name": "stdout",
     "output_type": "stream",
     "text": [
      "가게명 041-1234-9064\n"
     ]
    },
    {
     "name": "stderr",
     "output_type": "stream",
     "text": [
      "(0.016) INSERT INTO \"mall_shop\" (\"name\", \"description\", \"telephone\", \"photo\", \"created_at\", \"updated_at\") VALUES ('가게명', '', '041-1234-9064', '', '2021-12-01 06:45:24.240541', '2021-12-01 06:45:24.240541'); args=['가게명', '', '041-1234-9064', '', '2021-12-01 06:45:24.240541', '2021-12-01 06:45:24.240541']\n"
     ]
    },
    {
     "name": "stdout",
     "output_type": "stream",
     "text": [
      "가게명 041-1234-9065\n"
     ]
    },
    {
     "name": "stderr",
     "output_type": "stream",
     "text": [
      "(0.000) INSERT INTO \"mall_shop\" (\"name\", \"description\", \"telephone\", \"photo\", \"created_at\", \"updated_at\") VALUES ('가게명', '', '041-1234-9065', '', '2021-12-01 06:45:24.251514', '2021-12-01 06:45:24.251514'); args=['가게명', '', '041-1234-9065', '', '2021-12-01 06:45:24.251514', '2021-12-01 06:45:24.251514']\n"
     ]
    },
    {
     "name": "stdout",
     "output_type": "stream",
     "text": [
      "가게명 041-1234-9066\n"
     ]
    },
    {
     "name": "stderr",
     "output_type": "stream",
     "text": [
      "(0.000) INSERT INTO \"mall_shop\" (\"name\", \"description\", \"telephone\", \"photo\", \"created_at\", \"updated_at\") VALUES ('가게명', '', '041-1234-9066', '', '2021-12-01 06:45:24.262483', '2021-12-01 06:45:24.262483'); args=['가게명', '', '041-1234-9066', '', '2021-12-01 06:45:24.262483', '2021-12-01 06:45:24.262483']\n"
     ]
    },
    {
     "name": "stdout",
     "output_type": "stream",
     "text": [
      "가게명 041-1234-9067\n"
     ]
    },
    {
     "name": "stderr",
     "output_type": "stream",
     "text": [
      "(0.016) INSERT INTO \"mall_shop\" (\"name\", \"description\", \"telephone\", \"photo\", \"created_at\", \"updated_at\") VALUES ('가게명', '', '041-1234-9067', '', '2021-12-01 06:45:24.272148', '2021-12-01 06:45:24.272148'); args=['가게명', '', '041-1234-9067', '', '2021-12-01 06:45:24.272148', '2021-12-01 06:45:24.272148']\n"
     ]
    },
    {
     "name": "stdout",
     "output_type": "stream",
     "text": [
      "가게명 041-1234-9068\n"
     ]
    },
    {
     "name": "stderr",
     "output_type": "stream",
     "text": [
      "(0.000) INSERT INTO \"mall_shop\" (\"name\", \"description\", \"telephone\", \"photo\", \"created_at\", \"updated_at\") VALUES ('가게명', '', '041-1234-9068', '', '2021-12-01 06:45:24.283115', '2021-12-01 06:45:24.283115'); args=['가게명', '', '041-1234-9068', '', '2021-12-01 06:45:24.283115', '2021-12-01 06:45:24.283115']\n"
     ]
    },
    {
     "name": "stdout",
     "output_type": "stream",
     "text": [
      "가게명 041-1234-9069\n"
     ]
    },
    {
     "name": "stderr",
     "output_type": "stream",
     "text": [
      "(0.015) INSERT INTO \"mall_shop\" (\"name\", \"description\", \"telephone\", \"photo\", \"created_at\", \"updated_at\") VALUES ('가게명', '', '041-1234-9069', '', '2021-12-01 06:45:24.294095', '2021-12-01 06:45:24.294095'); args=['가게명', '', '041-1234-9069', '', '2021-12-01 06:45:24.294095', '2021-12-01 06:45:24.294095']\n"
     ]
    },
    {
     "name": "stdout",
     "output_type": "stream",
     "text": [
      "가게명 041-1234-9070\n"
     ]
    },
    {
     "name": "stderr",
     "output_type": "stream",
     "text": [
      "(0.000) INSERT INTO \"mall_shop\" (\"name\", \"description\", \"telephone\", \"photo\", \"created_at\", \"updated_at\") VALUES ('가게명', '', '041-1234-9070', '', '2021-12-01 06:45:24.312601', '2021-12-01 06:45:24.312601'); args=['가게명', '', '041-1234-9070', '', '2021-12-01 06:45:24.312601', '2021-12-01 06:45:24.312601']\n"
     ]
    },
    {
     "name": "stdout",
     "output_type": "stream",
     "text": [
      "가게명 041-1234-9071\n"
     ]
    },
    {
     "name": "stderr",
     "output_type": "stream",
     "text": [
      "(0.016) INSERT INTO \"mall_shop\" (\"name\", \"description\", \"telephone\", \"photo\", \"created_at\", \"updated_at\") VALUES ('가게명', '', '041-1234-9071', '', '2021-12-01 06:45:24.320733', '2021-12-01 06:45:24.320733'); args=['가게명', '', '041-1234-9071', '', '2021-12-01 06:45:24.320733', '2021-12-01 06:45:24.320733']\n"
     ]
    },
    {
     "name": "stdout",
     "output_type": "stream",
     "text": [
      "가게명 041-1234-9072\n"
     ]
    },
    {
     "name": "stderr",
     "output_type": "stream",
     "text": [
      "(0.000) INSERT INTO \"mall_shop\" (\"name\", \"description\", \"telephone\", \"photo\", \"created_at\", \"updated_at\") VALUES ('가게명', '', '041-1234-9072', '', '2021-12-01 06:45:24.329708', '2021-12-01 06:45:24.329708'); args=['가게명', '', '041-1234-9072', '', '2021-12-01 06:45:24.329708', '2021-12-01 06:45:24.329708']\n"
     ]
    },
    {
     "name": "stdout",
     "output_type": "stream",
     "text": [
      "가게명 041-1234-9073\n"
     ]
    },
    {
     "name": "stderr",
     "output_type": "stream",
     "text": [
      "(0.000) INSERT INTO \"mall_shop\" (\"name\", \"description\", \"telephone\", \"photo\", \"created_at\", \"updated_at\") VALUES ('가게명', '', '041-1234-9073', '', '2021-12-01 06:45:24.338692', '2021-12-01 06:45:24.338692'); args=['가게명', '', '041-1234-9073', '', '2021-12-01 06:45:24.338692', '2021-12-01 06:45:24.338692']\n"
     ]
    },
    {
     "name": "stdout",
     "output_type": "stream",
     "text": [
      "가게명 041-1234-9074\n"
     ]
    },
    {
     "name": "stderr",
     "output_type": "stream",
     "text": [
      "(0.000) INSERT INTO \"mall_shop\" (\"name\", \"description\", \"telephone\", \"photo\", \"created_at\", \"updated_at\") VALUES ('가게명', '', '041-1234-9074', '', '2021-12-01 06:45:24.348660', '2021-12-01 06:45:24.348660'); args=['가게명', '', '041-1234-9074', '', '2021-12-01 06:45:24.348660', '2021-12-01 06:45:24.348660']\n"
     ]
    },
    {
     "name": "stdout",
     "output_type": "stream",
     "text": [
      "가게명 041-1234-9075\n"
     ]
    },
    {
     "name": "stderr",
     "output_type": "stream",
     "text": [
      "(0.000) INSERT INTO \"mall_shop\" (\"name\", \"description\", \"telephone\", \"photo\", \"created_at\", \"updated_at\") VALUES ('가게명', '', '041-1234-9075', '', '2021-12-01 06:45:24.357636', '2021-12-01 06:45:24.357636'); args=['가게명', '', '041-1234-9075', '', '2021-12-01 06:45:24.357636', '2021-12-01 06:45:24.357636']\n"
     ]
    },
    {
     "name": "stdout",
     "output_type": "stream",
     "text": [
      "가게명 041-1234-9076\n"
     ]
    },
    {
     "name": "stderr",
     "output_type": "stream",
     "text": [
      "(0.016) INSERT INTO \"mall_shop\" (\"name\", \"description\", \"telephone\", \"photo\", \"created_at\", \"updated_at\") VALUES ('가게명', '', '041-1234-9076', '', '2021-12-01 06:45:24.366609', '2021-12-01 06:45:24.366609'); args=['가게명', '', '041-1234-9076', '', '2021-12-01 06:45:24.366609', '2021-12-01 06:45:24.366609']\n"
     ]
    },
    {
     "name": "stdout",
     "output_type": "stream",
     "text": [
      "가게명 041-1234-9077\n"
     ]
    },
    {
     "name": "stderr",
     "output_type": "stream",
     "text": [
      "(0.000) INSERT INTO \"mall_shop\" (\"name\", \"description\", \"telephone\", \"photo\", \"created_at\", \"updated_at\") VALUES ('가게명', '', '041-1234-9077', '', '2021-12-01 06:45:24.377581', '2021-12-01 06:45:24.377581'); args=['가게명', '', '041-1234-9077', '', '2021-12-01 06:45:24.377581', '2021-12-01 06:45:24.377581']\n"
     ]
    },
    {
     "name": "stdout",
     "output_type": "stream",
     "text": [
      "가게명 041-1234-9078\n"
     ]
    },
    {
     "name": "stderr",
     "output_type": "stream",
     "text": [
      "(0.000) INSERT INTO \"mall_shop\" (\"name\", \"description\", \"telephone\", \"photo\", \"created_at\", \"updated_at\") VALUES ('가게명', '', '041-1234-9078', '', '2021-12-01 06:45:24.387554', '2021-12-01 06:45:24.387554'); args=['가게명', '', '041-1234-9078', '', '2021-12-01 06:45:24.387554', '2021-12-01 06:45:24.387554']\n"
     ]
    },
    {
     "name": "stdout",
     "output_type": "stream",
     "text": [
      "가게명 041-1234-9079\n"
     ]
    },
    {
     "name": "stderr",
     "output_type": "stream",
     "text": [
      "(0.016) INSERT INTO \"mall_shop\" (\"name\", \"description\", \"telephone\", \"photo\", \"created_at\", \"updated_at\") VALUES ('가게명', '', '041-1234-9079', '', '2021-12-01 06:45:24.397527', '2021-12-01 06:45:24.397527'); args=['가게명', '', '041-1234-9079', '', '2021-12-01 06:45:24.397527', '2021-12-01 06:45:24.397527']\n"
     ]
    },
    {
     "name": "stdout",
     "output_type": "stream",
     "text": [
      "가게명 041-1234-9080\n"
     ]
    },
    {
     "name": "stderr",
     "output_type": "stream",
     "text": [
      "(0.000) INSERT INTO \"mall_shop\" (\"name\", \"description\", \"telephone\", \"photo\", \"created_at\", \"updated_at\") VALUES ('가게명', '', '041-1234-9080', '', '2021-12-01 06:45:24.409496', '2021-12-01 06:45:24.409496'); args=['가게명', '', '041-1234-9080', '', '2021-12-01 06:45:24.409496', '2021-12-01 06:45:24.409496']\n"
     ]
    },
    {
     "name": "stdout",
     "output_type": "stream",
     "text": [
      "가게명 041-1234-9081\n"
     ]
    },
    {
     "name": "stderr",
     "output_type": "stream",
     "text": [
      "(0.000) INSERT INTO \"mall_shop\" (\"name\", \"description\", \"telephone\", \"photo\", \"created_at\", \"updated_at\") VALUES ('가게명', '', '041-1234-9081', '', '2021-12-01 06:45:24.419470', '2021-12-01 06:45:24.419470'); args=['가게명', '', '041-1234-9081', '', '2021-12-01 06:45:24.419470', '2021-12-01 06:45:24.419470']\n"
     ]
    },
    {
     "name": "stdout",
     "output_type": "stream",
     "text": [
      "가게명 041-1234-9082\n"
     ]
    },
    {
     "name": "stderr",
     "output_type": "stream",
     "text": [
      "(0.000) INSERT INTO \"mall_shop\" (\"name\", \"description\", \"telephone\", \"photo\", \"created_at\", \"updated_at\") VALUES ('가게명', '', '041-1234-9082', '', '2021-12-01 06:45:24.433430', '2021-12-01 06:45:24.433430'); args=['가게명', '', '041-1234-9082', '', '2021-12-01 06:45:24.433430', '2021-12-01 06:45:24.433430']\n"
     ]
    },
    {
     "name": "stdout",
     "output_type": "stream",
     "text": [
      "가게명 041-1234-9083\n"
     ]
    },
    {
     "name": "stderr",
     "output_type": "stream",
     "text": [
      "(0.016) INSERT INTO \"mall_shop\" (\"name\", \"description\", \"telephone\", \"photo\", \"created_at\", \"updated_at\") VALUES ('가게명', '', '041-1234-9083', '', '2021-12-01 06:45:24.447411', '2021-12-01 06:45:24.447411'); args=['가게명', '', '041-1234-9083', '', '2021-12-01 06:45:24.447411', '2021-12-01 06:45:24.447411']\n"
     ]
    },
    {
     "name": "stdout",
     "output_type": "stream",
     "text": [
      "가게명 041-1234-9084\n"
     ]
    },
    {
     "name": "stderr",
     "output_type": "stream",
     "text": [
      "(0.015) INSERT INTO \"mall_shop\" (\"name\", \"description\", \"telephone\", \"photo\", \"created_at\", \"updated_at\") VALUES ('가게명', '', '041-1234-9084', '', '2021-12-01 06:45:24.457367', '2021-12-01 06:45:24.457367'); args=['가게명', '', '041-1234-9084', '', '2021-12-01 06:45:24.457367', '2021-12-01 06:45:24.457367']\n"
     ]
    },
    {
     "name": "stdout",
     "output_type": "stream",
     "text": [
      "가게명 041-1234-9085\n"
     ]
    },
    {
     "name": "stderr",
     "output_type": "stream",
     "text": [
      "(0.000) INSERT INTO \"mall_shop\" (\"name\", \"description\", \"telephone\", \"photo\", \"created_at\", \"updated_at\") VALUES ('가게명', '', '041-1234-9085', '', '2021-12-01 06:45:24.469003', '2021-12-01 06:45:24.469003'); args=['가게명', '', '041-1234-9085', '', '2021-12-01 06:45:24.469003', '2021-12-01 06:45:24.469003']\n"
     ]
    },
    {
     "name": "stdout",
     "output_type": "stream",
     "text": [
      "가게명 041-1234-9086\n"
     ]
    },
    {
     "name": "stderr",
     "output_type": "stream",
     "text": [
      "(0.000) INSERT INTO \"mall_shop\" (\"name\", \"description\", \"telephone\", \"photo\", \"created_at\", \"updated_at\") VALUES ('가게명', '', '041-1234-9086', '', '2021-12-01 06:45:24.479975', '2021-12-01 06:45:24.479975'); args=['가게명', '', '041-1234-9086', '', '2021-12-01 06:45:24.479975', '2021-12-01 06:45:24.479975']\n"
     ]
    },
    {
     "name": "stdout",
     "output_type": "stream",
     "text": [
      "가게명 041-1234-9087\n"
     ]
    },
    {
     "name": "stderr",
     "output_type": "stream",
     "text": [
      "(0.016) INSERT INTO \"mall_shop\" (\"name\", \"description\", \"telephone\", \"photo\", \"created_at\", \"updated_at\") VALUES ('가게명', '', '041-1234-9087', '', '2021-12-01 06:45:24.489947', '2021-12-01 06:45:24.489947'); args=['가게명', '', '041-1234-9087', '', '2021-12-01 06:45:24.489947', '2021-12-01 06:45:24.489947']\n"
     ]
    },
    {
     "name": "stdout",
     "output_type": "stream",
     "text": [
      "가게명 041-1234-9088\n"
     ]
    },
    {
     "name": "stderr",
     "output_type": "stream",
     "text": [
      "(0.000) INSERT INTO \"mall_shop\" (\"name\", \"description\", \"telephone\", \"photo\", \"created_at\", \"updated_at\") VALUES ('가게명', '', '041-1234-9088', '', '2021-12-01 06:45:24.498923', '2021-12-01 06:45:24.498923'); args=['가게명', '', '041-1234-9088', '', '2021-12-01 06:45:24.498923', '2021-12-01 06:45:24.498923']\n"
     ]
    },
    {
     "name": "stdout",
     "output_type": "stream",
     "text": [
      "가게명 041-1234-9089\n"
     ]
    },
    {
     "name": "stderr",
     "output_type": "stream",
     "text": [
      "(0.015) INSERT INTO \"mall_shop\" (\"name\", \"description\", \"telephone\", \"photo\", \"created_at\", \"updated_at\") VALUES ('가게명', '', '041-1234-9089', '', '2021-12-01 06:45:24.507900', '2021-12-01 06:45:24.507900'); args=['가게명', '', '041-1234-9089', '', '2021-12-01 06:45:24.507900', '2021-12-01 06:45:24.507900']\n"
     ]
    },
    {
     "name": "stdout",
     "output_type": "stream",
     "text": [
      "가게명 041-1234-9090\n"
     ]
    },
    {
     "name": "stderr",
     "output_type": "stream",
     "text": [
      "(0.000) INSERT INTO \"mall_shop\" (\"name\", \"description\", \"telephone\", \"photo\", \"created_at\", \"updated_at\") VALUES ('가게명', '', '041-1234-9090', '', '2021-12-01 06:45:24.518907', '2021-12-01 06:45:24.518907'); args=['가게명', '', '041-1234-9090', '', '2021-12-01 06:45:24.518907', '2021-12-01 06:45:24.518907']\n"
     ]
    },
    {
     "name": "stdout",
     "output_type": "stream",
     "text": [
      "가게명 041-1234-9091\n"
     ]
    },
    {
     "name": "stderr",
     "output_type": "stream",
     "text": [
      "(0.000) INSERT INTO \"mall_shop\" (\"name\", \"description\", \"telephone\", \"photo\", \"created_at\", \"updated_at\") VALUES ('가게명', '', '041-1234-9091', '', '2021-12-01 06:45:24.530878', '2021-12-01 06:45:24.530878'); args=['가게명', '', '041-1234-9091', '', '2021-12-01 06:45:24.530878', '2021-12-01 06:45:24.530878']\n"
     ]
    },
    {
     "name": "stdout",
     "output_type": "stream",
     "text": [
      "가게명 041-1234-9092\n"
     ]
    },
    {
     "name": "stderr",
     "output_type": "stream",
     "text": [
      "(0.016) INSERT INTO \"mall_shop\" (\"name\", \"description\", \"telephone\", \"photo\", \"created_at\", \"updated_at\") VALUES ('가게명', '', '041-1234-9092', '', '2021-12-01 06:45:24.539854', '2021-12-01 06:45:24.539854'); args=['가게명', '', '041-1234-9092', '', '2021-12-01 06:45:24.539854', '2021-12-01 06:45:24.539854']\n"
     ]
    },
    {
     "name": "stdout",
     "output_type": "stream",
     "text": [
      "가게명 041-1234-9093\n"
     ]
    },
    {
     "name": "stderr",
     "output_type": "stream",
     "text": [
      "(0.000) INSERT INTO \"mall_shop\" (\"name\", \"description\", \"telephone\", \"photo\", \"created_at\", \"updated_at\") VALUES ('가게명', '', '041-1234-9093', '', '2021-12-01 06:45:24.549825', '2021-12-01 06:45:24.549825'); args=['가게명', '', '041-1234-9093', '', '2021-12-01 06:45:24.549825', '2021-12-01 06:45:24.549825']\n"
     ]
    },
    {
     "name": "stdout",
     "output_type": "stream",
     "text": [
      "가게명 041-1234-9094\n"
     ]
    },
    {
     "name": "stderr",
     "output_type": "stream",
     "text": [
      "(0.000) INSERT INTO \"mall_shop\" (\"name\", \"description\", \"telephone\", \"photo\", \"created_at\", \"updated_at\") VALUES ('가게명', '', '041-1234-9094', '', '2021-12-01 06:45:24.559798', '2021-12-01 06:45:24.559798'); args=['가게명', '', '041-1234-9094', '', '2021-12-01 06:45:24.559798', '2021-12-01 06:45:24.559798']\n"
     ]
    },
    {
     "name": "stdout",
     "output_type": "stream",
     "text": [
      "가게명 041-1234-9095\n"
     ]
    },
    {
     "name": "stderr",
     "output_type": "stream",
     "text": [
      "(0.016) INSERT INTO \"mall_shop\" (\"name\", \"description\", \"telephone\", \"photo\", \"created_at\", \"updated_at\") VALUES ('가게명', '', '041-1234-9095', '', '2021-12-01 06:45:24.572360', '2021-12-01 06:45:24.572360'); args=['가게명', '', '041-1234-9095', '', '2021-12-01 06:45:24.572360', '2021-12-01 06:45:24.572360']\n"
     ]
    },
    {
     "name": "stdout",
     "output_type": "stream",
     "text": [
      "가게명 041-1234-9096\n"
     ]
    },
    {
     "name": "stderr",
     "output_type": "stream",
     "text": [
      "(0.015) INSERT INTO \"mall_shop\" (\"name\", \"description\", \"telephone\", \"photo\", \"created_at\", \"updated_at\") VALUES ('가게명', '', '041-1234-9096', '', '2021-12-01 06:45:24.582329', '2021-12-01 06:45:24.582329'); args=['가게명', '', '041-1234-9096', '', '2021-12-01 06:45:24.582329', '2021-12-01 06:45:24.582329']\n"
     ]
    },
    {
     "name": "stdout",
     "output_type": "stream",
     "text": [
      "가게명 041-1234-9097\n"
     ]
    },
    {
     "name": "stderr",
     "output_type": "stream",
     "text": [
      "(0.000) INSERT INTO \"mall_shop\" (\"name\", \"description\", \"telephone\", \"photo\", \"created_at\", \"updated_at\") VALUES ('가게명', '', '041-1234-9097', '', '2021-12-01 06:45:24.592303', '2021-12-01 06:45:24.592303'); args=['가게명', '', '041-1234-9097', '', '2021-12-01 06:45:24.592303', '2021-12-01 06:45:24.592303']\n"
     ]
    },
    {
     "name": "stdout",
     "output_type": "stream",
     "text": [
      "가게명 041-1234-9098\n"
     ]
    },
    {
     "name": "stderr",
     "output_type": "stream",
     "text": [
      "(0.016) INSERT INTO \"mall_shop\" (\"name\", \"description\", \"telephone\", \"photo\", \"created_at\", \"updated_at\") VALUES ('가게명', '', '041-1234-9098', '', '2021-12-01 06:45:24.602277', '2021-12-01 06:45:24.602277'); args=['가게명', '', '041-1234-9098', '', '2021-12-01 06:45:24.602277', '2021-12-01 06:45:24.602277']\n"
     ]
    },
    {
     "name": "stdout",
     "output_type": "stream",
     "text": [
      "가게명 041-1234-9099\n"
     ]
    },
    {
     "name": "stderr",
     "output_type": "stream",
     "text": [
      "(0.016) INSERT INTO \"mall_shop\" (\"name\", \"description\", \"telephone\", \"photo\", \"created_at\", \"updated_at\") VALUES ('가게명', '', '041-1234-9099', '', '2021-12-01 06:45:24.613885', '2021-12-01 06:45:24.613885'); args=['가게명', '', '041-1234-9099', '', '2021-12-01 06:45:24.613885', '2021-12-01 06:45:24.613885']\n"
     ]
    },
    {
     "name": "stdout",
     "output_type": "stream",
     "text": [
      "가게명 041-1234-9100\n"
     ]
    },
    {
     "name": "stderr",
     "output_type": "stream",
     "text": [
      "(0.000) INSERT INTO \"mall_shop\" (\"name\", \"description\", \"telephone\", \"photo\", \"created_at\", \"updated_at\") VALUES ('가게명', '', '041-1234-9100', '', '2021-12-01 06:45:24.624857', '2021-12-01 06:45:24.624857'); args=['가게명', '', '041-1234-9100', '', '2021-12-01 06:45:24.624857', '2021-12-01 06:45:24.624857']\n"
     ]
    }
   ],
   "source": [
    "for i in range(1, 101):\n",
    "    name = f\"가게명\"\n",
    "    telephone = f\"041-1234-9{i:03}\"\n",
    "    print(name, telephone)\n",
    "    Shop.objects.create(\n",
    "        name=name,\n",
    "        telephone=telephone,\n",
    "    )"
   ]
  },
  {
   "cell_type": "markdown",
   "id": "72e76c16",
   "metadata": {},
   "source": [
    "# Slicing"
   ]
  },
  {
   "cell_type": "code",
   "execution_count": 17,
   "id": "2ed984d4",
   "metadata": {},
   "outputs": [],
   "source": [
    "qs = Shop.objects.all()"
   ]
  },
  {
   "cell_type": "code",
   "execution_count": 18,
   "id": "a190597d",
   "metadata": {},
   "outputs": [
    {
     "name": "stderr",
     "output_type": "stream",
     "text": [
      "(0.000) SELECT \"mall_shop\".\"id\", \"mall_shop\".\"name\", \"mall_shop\".\"description\", \"mall_shop\".\"telephone\", \"mall_shop\".\"photo\", \"mall_shop\".\"created_at\", \"mall_shop\".\"updated_at\" FROM \"mall_shop\" ORDER BY \"mall_shop\".\"id\" ASC LIMIT 21; args=()\n"
     ]
    },
    {
     "data": {
      "text/plain": [
       "<QuerySet [<Shop: Shop object (10)>, <Shop: Shop object (11)>, <Shop: Shop object (12)>, <Shop: Shop object (13)>, <Shop: Shop object (14)>, <Shop: Shop object (15)>, <Shop: Shop object (16)>, <Shop: Shop object (17)>, <Shop: Shop object (18)>, <Shop: Shop object (19)>, <Shop: Shop object (20)>, <Shop: Shop object (21)>, <Shop: Shop object (22)>, <Shop: Shop object (23)>, <Shop: Shop object (24)>, <Shop: Shop object (25)>, <Shop: Shop object (26)>, <Shop: Shop object (27)>, <Shop: Shop object (28)>, <Shop: Shop object (29)>, '...(remaining elements truncated)...']>"
      ]
     },
     "execution_count": 18,
     "metadata": {},
     "output_type": "execute_result"
    }
   ],
   "source": [
    "qs"
   ]
  },
  {
   "cell_type": "code",
   "execution_count": 19,
   "id": "d39b5f46",
   "metadata": {},
   "outputs": [
    {
     "name": "stderr",
     "output_type": "stream",
     "text": [
      "(0.000) SELECT \"mall_shop\".\"id\", \"mall_shop\".\"name\", \"mall_shop\".\"description\", \"mall_shop\".\"telephone\", \"mall_shop\".\"photo\", \"mall_shop\".\"created_at\", \"mall_shop\".\"updated_at\" FROM \"mall_shop\" ORDER BY \"mall_shop\".\"id\" ASC LIMIT 10; args=()\n"
     ]
    },
    {
     "data": {
      "text/plain": [
       "[<Shop: Shop object (10)>,\n",
       " <Shop: Shop object (12)>,\n",
       " <Shop: Shop object (14)>,\n",
       " <Shop: Shop object (16)>,\n",
       " <Shop: Shop object (18)>]"
      ]
     },
     "execution_count": 19,
     "metadata": {},
     "output_type": "execute_result"
    }
   ],
   "source": [
    "qs[0:10:2]"
   ]
  },
  {
   "cell_type": "code",
   "execution_count": 20,
   "id": "c63093cd",
   "metadata": {},
   "outputs": [
    {
     "ename": "AssertionError",
     "evalue": "Negative indexing is not supported.",
     "output_type": "error",
     "traceback": [
      "\u001b[1;31m---------------------------------------------------------------------------\u001b[0m",
      "\u001b[1;31mAssertionError\u001b[0m                            Traceback (most recent call last)",
      "\u001b[1;32m~\\AppData\\Local\\Temp/ipykernel_16548/3679208199.py\u001b[0m in \u001b[0;36m<module>\u001b[1;34m\u001b[0m\n\u001b[1;32m----> 1\u001b[1;33m \u001b[0mqs\u001b[0m\u001b[1;33m[\u001b[0m\u001b[1;33m-\u001b[0m\u001b[1;36m10\u001b[0m\u001b[1;33m:\u001b[0m\u001b[1;33m]\u001b[0m \u001b[1;31m# last 10 rows\u001b[0m\u001b[1;33m\u001b[0m\u001b[1;33m\u001b[0m\u001b[0m\n\u001b[0m",
      "\u001b[1;32mC:\\Python310\\lib\\site-packages\\django\\db\\models\\query.py\u001b[0m in \u001b[0;36m__getitem__\u001b[1;34m(self, k)\u001b[0m\n\u001b[0;32m    292\u001b[0m                 \u001b[1;33m%\u001b[0m \u001b[0mtype\u001b[0m\u001b[1;33m(\u001b[0m\u001b[0mk\u001b[0m\u001b[1;33m)\u001b[0m\u001b[1;33m.\u001b[0m\u001b[0m__name__\u001b[0m\u001b[1;33m\u001b[0m\u001b[1;33m\u001b[0m\u001b[0m\n\u001b[0;32m    293\u001b[0m             )\n\u001b[1;32m--> 294\u001b[1;33m         assert ((not isinstance(k, slice) and (k >= 0)) or\n\u001b[0m\u001b[0;32m    295\u001b[0m                 (isinstance(k, slice) and (k.start is None or k.start >= 0) and\n\u001b[0;32m    296\u001b[0m                  (k.stop is None or k.stop >= 0))), \\\n",
      "\u001b[1;31mAssertionError\u001b[0m: Negative indexing is not supported."
     ]
    }
   ],
   "source": [
    "qs[-10:] # last 10 rows"
   ]
  },
  {
   "cell_type": "code",
   "execution_count": 22,
   "id": "f7f2b7c7",
   "metadata": {},
   "outputs": [
    {
     "name": "stderr",
     "output_type": "stream",
     "text": [
      "(0.000) SELECT \"mall_shop\".\"id\", \"mall_shop\".\"name\", \"mall_shop\".\"description\", \"mall_shop\".\"telephone\", \"mall_shop\".\"photo\", \"mall_shop\".\"created_at\", \"mall_shop\".\"updated_at\" FROM \"mall_shop\" ORDER BY \"mall_shop\".\"id\" ASC LIMIT 10; args=()\n"
     ]
    },
    {
     "name": "stdout",
     "output_type": "stream",
     "text": [
      "19 가게명 041-1234-9006\n",
      "18 가게명 041-1234-9005\n",
      "17 가게명 041-1234-9004\n",
      "16 가게명 041-1234-9003\n",
      "15 가게명 041-1234-9002\n",
      "14 가게명 041-1234-9001\n",
      "13 셀프24시빨래방 042-1234-4321\n",
      "12 투썸플레이스 042-1234-1234\n",
      "11 셀프24시빨래방 042-1234-4321\n",
      "10 투썸플레이스 042-1234-1234\n"
     ]
    }
   ],
   "source": [
    "for shop in reversed(qs.order_by(\"id\")[:10]):\n",
    "    print(shop.pk, shop.name, shop.telephone)\n"
   ]
  },
  {
   "cell_type": "code",
   "execution_count": 23,
   "id": "76097b02",
   "metadata": {},
   "outputs": [],
   "source": [
    "qs = Shop.objects.all()"
   ]
  },
  {
   "cell_type": "code",
   "execution_count": 24,
   "id": "66c81828",
   "metadata": {},
   "outputs": [
    {
     "name": "stderr",
     "output_type": "stream",
     "text": [
      "(0.000) SELECT \"mall_shop\".\"id\", \"mall_shop\".\"name\", \"mall_shop\".\"description\", \"mall_shop\".\"telephone\", \"mall_shop\".\"photo\", \"mall_shop\".\"created_at\", \"mall_shop\".\"updated_at\" FROM \"mall_shop\" WHERE \"mall_shop\".\"id\" = 1 ORDER BY \"mall_shop\".\"id\" ASC LIMIT 21; args=(1,)\n"
     ]
    },
    {
     "data": {
      "text/plain": [
       "<QuerySet []>"
      ]
     },
     "execution_count": 24,
     "metadata": {},
     "output_type": "execute_result"
    }
   ],
   "source": [
    "#filter <-> exclude\n",
    "qs.filter(pk=1)"
   ]
  },
  {
   "cell_type": "code",
   "execution_count": 25,
   "id": "9218b308",
   "metadata": {},
   "outputs": [
    {
     "name": "stderr",
     "output_type": "stream",
     "text": [
      "(0.000) SELECT \"mall_shop\".\"id\", \"mall_shop\".\"name\", \"mall_shop\".\"description\", \"mall_shop\".\"telephone\", \"mall_shop\".\"photo\", \"mall_shop\".\"created_at\", \"mall_shop\".\"updated_at\" FROM \"mall_shop\" WHERE NOT (\"mall_shop\".\"id\" = 1) ORDER BY \"mall_shop\".\"id\" ASC LIMIT 21; args=(1,)\n"
     ]
    },
    {
     "data": {
      "text/plain": [
       "<QuerySet [<Shop: Shop object (10)>, <Shop: Shop object (11)>, <Shop: Shop object (12)>, <Shop: Shop object (13)>, <Shop: Shop object (14)>, <Shop: Shop object (15)>, <Shop: Shop object (16)>, <Shop: Shop object (17)>, <Shop: Shop object (18)>, <Shop: Shop object (19)>, <Shop: Shop object (20)>, <Shop: Shop object (21)>, <Shop: Shop object (22)>, <Shop: Shop object (23)>, <Shop: Shop object (24)>, <Shop: Shop object (25)>, <Shop: Shop object (26)>, <Shop: Shop object (27)>, <Shop: Shop object (28)>, <Shop: Shop object (29)>, '...(remaining elements truncated)...']>"
      ]
     },
     "execution_count": 25,
     "metadata": {},
     "output_type": "execute_result"
    }
   ],
   "source": [
    "qs.exclude(pk=1)"
   ]
  },
  {
   "cell_type": "code",
   "execution_count": 28,
   "id": "86c84177",
   "metadata": {},
   "outputs": [
    {
     "name": "stderr",
     "output_type": "stream",
     "text": [
      "(0.000) SELECT \"mall_shop\".\"id\", \"mall_shop\".\"name\", \"mall_shop\".\"description\", \"mall_shop\".\"telephone\", \"mall_shop\".\"photo\", \"mall_shop\".\"created_at\", \"mall_shop\".\"updated_at\" FROM \"mall_shop\" WHERE (\"mall_shop\".\"id\" >= 5 AND \"mall_shop\".\"id\" < 10) ORDER BY \"mall_shop\".\"id\" ASC LIMIT 21; args=(5, 10)\n"
     ]
    },
    {
     "data": {
      "text/plain": [
       "<QuerySet []>"
      ]
     },
     "execution_count": 28,
     "metadata": {},
     "output_type": "execute_result"
    }
   ],
   "source": [
    "# lt : less than\n",
    "# lte : less than equal\n",
    "# gt : greater than\n",
    "# gte : greather than equal\n",
    "\n",
    "qs.filter(\n",
    "    pk__gte=5,\n",
    "    pk__lt=10   # less Than\n",
    ")"
   ]
  },
  {
   "cell_type": "code",
   "execution_count": 29,
   "id": "0193fe57",
   "metadata": {},
   "outputs": [
    {
     "name": "stderr",
     "output_type": "stream",
     "text": [
      "(0.000) SELECT \"mall_shop\".\"id\", \"mall_shop\".\"name\", \"mall_shop\".\"description\", \"mall_shop\".\"telephone\", \"mall_shop\".\"photo\", \"mall_shop\".\"created_at\", \"mall_shop\".\"updated_at\" FROM \"mall_shop\" WHERE (\"mall_shop\".\"id\" >= 5 AND \"mall_shop\".\"id\" < 10) ORDER BY \"mall_shop\".\"id\" ASC LIMIT 21; args=(5, 10)\n"
     ]
    },
    {
     "data": {
      "text/plain": [
       "<QuerySet []>"
      ]
     },
     "execution_count": 29,
     "metadata": {},
     "output_type": "execute_result"
    }
   ],
   "source": [
    "qs.filter(pk__gte=5).filter(pk__lt=10)"
   ]
  },
  {
   "cell_type": "code",
   "execution_count": 30,
   "id": "49c1d274",
   "metadata": {},
   "outputs": [],
   "source": [
    "qs1 = Shop.objects.all()\n",
    "qs1 = qs1.filter(pk__gte=5)\n",
    "qs1 = qs1.filter(pk__lt=10)"
   ]
  },
  {
   "cell_type": "code",
   "execution_count": 31,
   "id": "a79416ad",
   "metadata": {},
   "outputs": [],
   "source": [
    "qs2 = Shop.objects.all().filter(pk__gte=5).filter(pk__lt=10)"
   ]
  },
  {
   "cell_type": "code",
   "execution_count": null,
   "id": "e142ed6e",
   "metadata": {},
   "outputs": [],
   "source": []
  },
  {
   "cell_type": "code",
   "execution_count": 32,
   "id": "3a246377",
   "metadata": {},
   "outputs": [],
   "source": [
    "# QuerySet is Lazy."
   ]
  },
  {
   "cell_type": "code",
   "execution_count": 33,
   "id": "f382c5c1",
   "metadata": {},
   "outputs": [],
   "source": [
    "qs = Shop.objects.all()"
   ]
  },
  {
   "cell_type": "code",
   "execution_count": 34,
   "id": "c0ace684",
   "metadata": {},
   "outputs": [
    {
     "name": "stderr",
     "output_type": "stream",
     "text": [
      "(0.000) SELECT \"mall_shop\".\"id\", \"mall_shop\".\"name\", \"mall_shop\".\"description\", \"mall_shop\".\"telephone\", \"mall_shop\".\"photo\", \"mall_shop\".\"created_at\", \"mall_shop\".\"updated_at\" FROM \"mall_shop\" ORDER BY \"mall_shop\".\"id\" ASC LIMIT 21; args=()\n"
     ]
    },
    {
     "data": {
      "text/plain": [
       "<QuerySet [<Shop: Shop object (10)>, <Shop: Shop object (11)>, <Shop: Shop object (12)>, <Shop: Shop object (13)>, <Shop: Shop object (14)>, <Shop: Shop object (15)>, <Shop: Shop object (16)>, <Shop: Shop object (17)>, <Shop: Shop object (18)>, <Shop: Shop object (19)>, <Shop: Shop object (20)>, <Shop: Shop object (21)>, <Shop: Shop object (22)>, <Shop: Shop object (23)>, <Shop: Shop object (24)>, <Shop: Shop object (25)>, <Shop: Shop object (26)>, <Shop: Shop object (27)>, <Shop: Shop object (28)>, <Shop: Shop object (29)>, '...(remaining elements truncated)...']>"
      ]
     },
     "execution_count": 34,
     "metadata": {},
     "output_type": "execute_result"
    }
   ],
   "source": [
    "Shop.objects.all()"
   ]
  },
  {
   "cell_type": "code",
   "execution_count": null,
   "id": "dafe4257",
   "metadata": {},
   "outputs": [],
   "source": []
  },
  {
   "cell_type": "code",
   "execution_count": 35,
   "id": "5a6d1630",
   "metadata": {},
   "outputs": [
    {
     "name": "stderr",
     "output_type": "stream",
     "text": [
      "(0.000) SELECT \"mall_shop\".\"id\", \"mall_shop\".\"name\", \"mall_shop\".\"description\", \"mall_shop\".\"telephone\", \"mall_shop\".\"photo\", \"mall_shop\".\"created_at\", \"mall_shop\".\"updated_at\" FROM \"mall_shop\" ORDER BY \"mall_shop\".\"id\" ASC; args=()\n"
     ]
    }
   ],
   "source": [
    "qs = Shop.objects.all()\n",
    "shop_list = list(qs)"
   ]
  },
  {
   "cell_type": "code",
   "execution_count": null,
   "id": "3cbe0af3",
   "metadata": {},
   "outputs": [],
   "source": []
  },
  {
   "cell_type": "markdown",
   "id": "404356ce",
   "metadata": {},
   "source": [
    "# Get 1 Row"
   ]
  },
  {
   "cell_type": "code",
   "execution_count": 54,
   "id": "fa8c2995",
   "metadata": {},
   "outputs": [],
   "source": [
    "pk = 10\n",
    "not_existed_pk = 100000"
   ]
  },
  {
   "cell_type": "code",
   "execution_count": 55,
   "id": "6b77c2a2",
   "metadata": {},
   "outputs": [
    {
     "name": "stderr",
     "output_type": "stream",
     "text": [
      "(0.000) SELECT \"mall_shop\".\"id\", \"mall_shop\".\"name\", \"mall_shop\".\"description\", \"mall_shop\".\"telephone\", \"mall_shop\".\"photo\", \"mall_shop\".\"created_at\", \"mall_shop\".\"updated_at\" FROM \"mall_shop\" WHERE \"mall_shop\".\"id\" = 10 LIMIT 21; args=(10,)\n"
     ]
    },
    {
     "data": {
      "text/plain": [
       "<Shop: Shop object (10)>"
      ]
     },
     "execution_count": 55,
     "metadata": {},
     "output_type": "execute_result"
    }
   ],
   "source": [
    "shop = Shop.objects.get(pk=pk)\n",
    "shop"
   ]
  },
  {
   "cell_type": "code",
   "execution_count": 56,
   "id": "1a2e14aa",
   "metadata": {},
   "outputs": [
    {
     "name": "stderr",
     "output_type": "stream",
     "text": [
      "(0.000) SELECT \"mall_shop\".\"id\", \"mall_shop\".\"name\", \"mall_shop\".\"description\", \"mall_shop\".\"telephone\", \"mall_shop\".\"photo\", \"mall_shop\".\"created_at\", \"mall_shop\".\"updated_at\" FROM \"mall_shop\" WHERE \"mall_shop\".\"id\" = 100000 LIMIT 21; args=(100000,)\n"
     ]
    },
    {
     "ename": "DoesNotExist",
     "evalue": "Shop matching query does not exist.",
     "output_type": "error",
     "traceback": [
      "\u001b[1;31m---------------------------------------------------------------------------\u001b[0m",
      "\u001b[1;31mDoesNotExist\u001b[0m                              Traceback (most recent call last)",
      "\u001b[1;32m~\\AppData\\Local\\Temp/ipykernel_16548/2259399548.py\u001b[0m in \u001b[0;36m<module>\u001b[1;34m\u001b[0m\n\u001b[1;32m----> 1\u001b[1;33m \u001b[0mShop\u001b[0m\u001b[1;33m.\u001b[0m\u001b[0mobjects\u001b[0m\u001b[1;33m.\u001b[0m\u001b[0mget\u001b[0m\u001b[1;33m(\u001b[0m\u001b[0mpk\u001b[0m\u001b[1;33m=\u001b[0m\u001b[0mnot_existed_pk\u001b[0m\u001b[1;33m)\u001b[0m\u001b[1;33m\u001b[0m\u001b[1;33m\u001b[0m\u001b[0m\n\u001b[0m",
      "\u001b[1;32mC:\\Python310\\lib\\site-packages\\django\\db\\models\\manager.py\u001b[0m in \u001b[0;36mmanager_method\u001b[1;34m(self, *args, **kwargs)\u001b[0m\n\u001b[0;32m     83\u001b[0m         \u001b[1;32mdef\u001b[0m \u001b[0mcreate_method\u001b[0m\u001b[1;33m(\u001b[0m\u001b[0mname\u001b[0m\u001b[1;33m,\u001b[0m \u001b[0mmethod\u001b[0m\u001b[1;33m)\u001b[0m\u001b[1;33m:\u001b[0m\u001b[1;33m\u001b[0m\u001b[1;33m\u001b[0m\u001b[0m\n\u001b[0;32m     84\u001b[0m             \u001b[1;32mdef\u001b[0m \u001b[0mmanager_method\u001b[0m\u001b[1;33m(\u001b[0m\u001b[0mself\u001b[0m\u001b[1;33m,\u001b[0m \u001b[1;33m*\u001b[0m\u001b[0margs\u001b[0m\u001b[1;33m,\u001b[0m \u001b[1;33m**\u001b[0m\u001b[0mkwargs\u001b[0m\u001b[1;33m)\u001b[0m\u001b[1;33m:\u001b[0m\u001b[1;33m\u001b[0m\u001b[1;33m\u001b[0m\u001b[0m\n\u001b[1;32m---> 85\u001b[1;33m                 \u001b[1;32mreturn\u001b[0m \u001b[0mgetattr\u001b[0m\u001b[1;33m(\u001b[0m\u001b[0mself\u001b[0m\u001b[1;33m.\u001b[0m\u001b[0mget_queryset\u001b[0m\u001b[1;33m(\u001b[0m\u001b[1;33m)\u001b[0m\u001b[1;33m,\u001b[0m \u001b[0mname\u001b[0m\u001b[1;33m)\u001b[0m\u001b[1;33m(\u001b[0m\u001b[1;33m*\u001b[0m\u001b[0margs\u001b[0m\u001b[1;33m,\u001b[0m \u001b[1;33m**\u001b[0m\u001b[0mkwargs\u001b[0m\u001b[1;33m)\u001b[0m\u001b[1;33m\u001b[0m\u001b[1;33m\u001b[0m\u001b[0m\n\u001b[0m\u001b[0;32m     86\u001b[0m             \u001b[0mmanager_method\u001b[0m\u001b[1;33m.\u001b[0m\u001b[0m__name__\u001b[0m \u001b[1;33m=\u001b[0m \u001b[0mmethod\u001b[0m\u001b[1;33m.\u001b[0m\u001b[0m__name__\u001b[0m\u001b[1;33m\u001b[0m\u001b[1;33m\u001b[0m\u001b[0m\n\u001b[0;32m     87\u001b[0m             \u001b[0mmanager_method\u001b[0m\u001b[1;33m.\u001b[0m\u001b[0m__doc__\u001b[0m \u001b[1;33m=\u001b[0m \u001b[0mmethod\u001b[0m\u001b[1;33m.\u001b[0m\u001b[0m__doc__\u001b[0m\u001b[1;33m\u001b[0m\u001b[1;33m\u001b[0m\u001b[0m\n",
      "\u001b[1;32mC:\\Python310\\lib\\site-packages\\django\\db\\models\\query.py\u001b[0m in \u001b[0;36mget\u001b[1;34m(self, *args, **kwargs)\u001b[0m\n\u001b[0;32m    433\u001b[0m             \u001b[1;32mreturn\u001b[0m \u001b[0mclone\u001b[0m\u001b[1;33m.\u001b[0m\u001b[0m_result_cache\u001b[0m\u001b[1;33m[\u001b[0m\u001b[1;36m0\u001b[0m\u001b[1;33m]\u001b[0m\u001b[1;33m\u001b[0m\u001b[1;33m\u001b[0m\u001b[0m\n\u001b[0;32m    434\u001b[0m         \u001b[1;32mif\u001b[0m \u001b[1;32mnot\u001b[0m \u001b[0mnum\u001b[0m\u001b[1;33m:\u001b[0m\u001b[1;33m\u001b[0m\u001b[1;33m\u001b[0m\u001b[0m\n\u001b[1;32m--> 435\u001b[1;33m             raise self.model.DoesNotExist(\n\u001b[0m\u001b[0;32m    436\u001b[0m                 \u001b[1;34m\"%s matching query does not exist.\"\u001b[0m \u001b[1;33m%\u001b[0m\u001b[1;33m\u001b[0m\u001b[1;33m\u001b[0m\u001b[0m\n\u001b[0;32m    437\u001b[0m                 \u001b[0mself\u001b[0m\u001b[1;33m.\u001b[0m\u001b[0mmodel\u001b[0m\u001b[1;33m.\u001b[0m\u001b[0m_meta\u001b[0m\u001b[1;33m.\u001b[0m\u001b[0mobject_name\u001b[0m\u001b[1;33m\u001b[0m\u001b[1;33m\u001b[0m\u001b[0m\n",
      "\u001b[1;31mDoesNotExist\u001b[0m: Shop matching query does not exist."
     ]
    }
   ],
   "source": [
    "Shop.objects.get(pk=not_existed_pk)"
   ]
  },
  {
   "cell_type": "code",
   "execution_count": 59,
   "id": "f3f0acc1",
   "metadata": {},
   "outputs": [
    {
     "name": "stderr",
     "output_type": "stream",
     "text": [
      "(0.000) SELECT \"mall_shop\".\"id\", \"mall_shop\".\"name\", \"mall_shop\".\"description\", \"mall_shop\".\"telephone\", \"mall_shop\".\"photo\", \"mall_shop\".\"created_at\", \"mall_shop\".\"updated_at\" FROM \"mall_shop\" WHERE \"mall_shop\".\"id\" = 100000 ORDER BY \"mall_shop\".\"id\" ASC LIMIT 1; args=(100000,)\n"
     ]
    }
   ],
   "source": [
    "Shop.objects.filter(pk=not_existed_pk).first()"
   ]
  },
  {
   "cell_type": "code",
   "execution_count": null,
   "id": "248900c5",
   "metadata": {},
   "outputs": [],
   "source": []
  },
  {
   "cell_type": "markdown",
   "id": "328dad10",
   "metadata": {},
   "source": [
    "# conitions (OR)"
   ]
  },
  {
   "cell_type": "code",
   "execution_count": 46,
   "id": "3de62df5",
   "metadata": {},
   "outputs": [
    {
     "name": "stderr",
     "output_type": "stream",
     "text": [
      "(0.000) SELECT \"mall_shop\".\"id\", \"mall_shop\".\"name\", \"mall_shop\".\"description\", \"mall_shop\".\"telephone\", \"mall_shop\".\"photo\", \"mall_shop\".\"created_at\", \"mall_shop\".\"updated_at\" FROM \"mall_shop\" WHERE (\"mall_shop\".\"id\" >= 5 AND \"mall_shop\".\"id\" < 10) ORDER BY \"mall_shop\".\"id\" ASC LIMIT 21; args=(5, 10)\n"
     ]
    },
    {
     "data": {
      "text/plain": [
       "<QuerySet []>"
      ]
     },
     "execution_count": 46,
     "metadata": {},
     "output_type": "execute_result"
    }
   ],
   "source": [
    "qs = Shop.objects.all()\n",
    "qs.filter(pk__gte=5, pk__lt=10)"
   ]
  },
  {
   "cell_type": "code",
   "execution_count": 47,
   "id": "74730ecf",
   "metadata": {},
   "outputs": [],
   "source": [
    "from django.db.models import Q"
   ]
  },
  {
   "cell_type": "code",
   "execution_count": 48,
   "id": "def78795",
   "metadata": {},
   "outputs": [
    {
     "data": {
      "text/plain": [
       "<Q: (AND: ('pk__gte', 5))>"
      ]
     },
     "execution_count": 48,
     "metadata": {},
     "output_type": "execute_result"
    }
   ],
   "source": [
    "Q(pk__gte=5)"
   ]
  },
  {
   "cell_type": "code",
   "execution_count": 49,
   "id": "702958f9",
   "metadata": {},
   "outputs": [
    {
     "data": {
      "text/plain": [
       "<Q: (AND: ('pk__lt', 10))>"
      ]
     },
     "execution_count": 49,
     "metadata": {},
     "output_type": "execute_result"
    }
   ],
   "source": [
    "Q(pk__lt=10)"
   ]
  },
  {
   "cell_type": "code",
   "execution_count": 50,
   "id": "8a6677da",
   "metadata": {},
   "outputs": [
    {
     "data": {
      "text/plain": [
       "<Q: (AND: ('pk__gte', 5), ('pk__lt', 10))>"
      ]
     },
     "execution_count": 50,
     "metadata": {},
     "output_type": "execute_result"
    }
   ],
   "source": [
    "Q(pk__gte=5) & Q(pk__lt=10)"
   ]
  },
  {
   "cell_type": "code",
   "execution_count": 51,
   "id": "135808bf",
   "metadata": {},
   "outputs": [
    {
     "data": {
      "text/plain": [
       "<Q: (OR: ('pk__gte', 5), ('pk__lt', 10))>"
      ]
     },
     "execution_count": 51,
     "metadata": {},
     "output_type": "execute_result"
    }
   ],
   "source": [
    "Q(pk__gte=5) | Q(pk__lt=10)"
   ]
  },
  {
   "cell_type": "code",
   "execution_count": null,
   "id": "e30bdaec",
   "metadata": {},
   "outputs": [],
   "source": []
  },
  {
   "cell_type": "code",
   "execution_count": 52,
   "id": "3251a1a8",
   "metadata": {},
   "outputs": [
    {
     "name": "stderr",
     "output_type": "stream",
     "text": [
      "(0.000) SELECT \"mall_shop\".\"id\", \"mall_shop\".\"name\", \"mall_shop\".\"description\", \"mall_shop\".\"telephone\", \"mall_shop\".\"photo\", \"mall_shop\".\"created_at\", \"mall_shop\".\"updated_at\" FROM \"mall_shop\" WHERE (\"mall_shop\".\"id\" >= 5 OR \"mall_shop\".\"id\" < 10) ORDER BY \"mall_shop\".\"id\" ASC LIMIT 21; args=(5, 10)\n"
     ]
    },
    {
     "data": {
      "text/plain": [
       "<QuerySet [<Shop: Shop object (10)>, <Shop: Shop object (11)>, <Shop: Shop object (12)>, <Shop: Shop object (13)>, <Shop: Shop object (14)>, <Shop: Shop object (15)>, <Shop: Shop object (16)>, <Shop: Shop object (17)>, <Shop: Shop object (18)>, <Shop: Shop object (19)>, <Shop: Shop object (20)>, <Shop: Shop object (21)>, <Shop: Shop object (22)>, <Shop: Shop object (23)>, <Shop: Shop object (24)>, <Shop: Shop object (25)>, <Shop: Shop object (26)>, <Shop: Shop object (27)>, <Shop: Shop object (28)>, <Shop: Shop object (29)>, '...(remaining elements truncated)...']>"
      ]
     },
     "execution_count": 52,
     "metadata": {},
     "output_type": "execute_result"
    }
   ],
   "source": [
    "qs = Shop.objects.all()\n",
    "qs.filter(\n",
    "    Q(pk__gte=5) | Q(pk__lt=10)\n",
    ")"
   ]
  },
  {
   "cell_type": "code",
   "execution_count": null,
   "id": "ae4e1565",
   "metadata": {},
   "outputs": [],
   "source": []
  },
  {
   "cell_type": "code",
   "execution_count": 53,
   "id": "570b44cc",
   "metadata": {},
   "outputs": [
    {
     "data": {
      "text/plain": [
       "<Q: (OR: ('pk_gte', 5), ('pk__lt', 10))>"
      ]
     },
     "execution_count": 53,
     "metadata": {},
     "output_type": "execute_result"
    }
   ],
   "source": [
    "conditions = Q(pk_gte=5)\n",
    "# conditions = conditions | Q(pk__lt=10)\n",
    "conditions |=Q(pk__lt=10)\n",
    "\n",
    "conditions"
   ]
  },
  {
   "cell_type": "code",
   "execution_count": null,
   "id": "ac01a1c5",
   "metadata": {},
   "outputs": [],
   "source": []
  },
  {
   "cell_type": "markdown",
   "id": "191131f8",
   "metadata": {},
   "source": [
    "# Update Rows"
   ]
  },
  {
   "cell_type": "markdown",
   "id": "b3253b78",
   "metadata": {},
   "source": [
    "#  지정 Row"
   ]
  },
  {
   "cell_type": "code",
   "execution_count": 60,
   "id": "6ce44434",
   "metadata": {},
   "outputs": [
    {
     "name": "stderr",
     "output_type": "stream",
     "text": [
      "(0.000) SELECT \"mall_shop\".\"id\", \"mall_shop\".\"name\", \"mall_shop\".\"description\", \"mall_shop\".\"telephone\", \"mall_shop\".\"photo\", \"mall_shop\".\"created_at\", \"mall_shop\".\"updated_at\" FROM \"mall_shop\" WHERE \"mall_shop\".\"id\" = 10 LIMIT 21; args=(10,)\n"
     ]
    }
   ],
   "source": [
    "qs = Shop.objects.all()\n",
    "shop = qs.get(pk=10)"
   ]
  },
  {
   "cell_type": "code",
   "execution_count": 61,
   "id": "3c496c6d",
   "metadata": {},
   "outputs": [
    {
     "data": {
      "text/plain": [
       "('투썸플레이스', '042-1234-1234')"
      ]
     },
     "execution_count": 61,
     "metadata": {},
     "output_type": "execute_result"
    }
   ],
   "source": [
    "shop.name, shop.telephone"
   ]
  },
  {
   "cell_type": "code",
   "execution_count": 62,
   "id": "6d7ef355",
   "metadata": {},
   "outputs": [],
   "source": [
    "shop.telephone = \" 042-1234-0006\""
   ]
  },
  {
   "cell_type": "code",
   "execution_count": 63,
   "id": "467b9b1c",
   "metadata": {},
   "outputs": [
    {
     "name": "stderr",
     "output_type": "stream",
     "text": [
      "(0.015) UPDATE \"mall_shop\" SET \"name\" = '투썸플레이스', \"description\" = '', \"telephone\" = ' 042-1234-0006', \"photo\" = '', \"created_at\" = '2021-12-01 06:40:02.939734', \"updated_at\" = '2021-12-01 07:39:02.672174' WHERE \"mall_shop\".\"id\" = 10; args=('투썸플레이스', '', ' 042-1234-0006', '', '2021-12-01 06:40:02.939734', '2021-12-01 07:39:02.672174', 10)\n"
     ]
    }
   ],
   "source": [
    "shop.save()"
   ]
  },
  {
   "cell_type": "code",
   "execution_count": null,
   "id": "cc3dabb9",
   "metadata": {},
   "outputs": [],
   "source": []
  },
  {
   "cell_type": "markdown",
   "id": "66cf266a",
   "metadata": {},
   "source": [
    "# 지정 범위의 Rows"
   ]
  },
  {
   "cell_type": "code",
   "execution_count": 64,
   "id": "1a288f77",
   "metadata": {},
   "outputs": [
    {
     "name": "stderr",
     "output_type": "stream",
     "text": [
      "(0.016) UPDATE \"mall_shop\" SET \"description\" = 'not used description'; args=('not used description',)\n"
     ]
    },
    {
     "data": {
      "text/plain": [
       "104"
      ]
     },
     "execution_count": 64,
     "metadata": {},
     "output_type": "execute_result"
    }
   ],
   "source": [
    "qs = Shop.objects.all()\n",
    "\n",
    "qs.filter(pk__lte=10)\n",
    "qs.update(\n",
    "    description=\"not used description\"\n",
    ")"
   ]
  },
  {
   "cell_type": "code",
   "execution_count": 65,
   "id": "38a4d4e5",
   "metadata": {},
   "outputs": [
    {
     "name": "stderr",
     "output_type": "stream",
     "text": [
      "(0.000) SELECT \"mall_shop\".\"id\", \"mall_shop\".\"name\", \"mall_shop\".\"description\", \"mall_shop\".\"telephone\", \"mall_shop\".\"photo\", \"mall_shop\".\"created_at\", \"mall_shop\".\"updated_at\" FROM \"mall_shop\" ORDER BY \"mall_shop\".\"id\" ASC; args=()\n",
      "(0.031) UPDATE \"mall_shop\" SET \"name\" = '투썸플레이스', \"description\" = 'not used description', \"telephone\" = ' 042-1234-0006', \"photo\" = '', \"created_at\" = '2021-12-01 06:40:02.939734', \"updated_at\" = '2021-12-01 07:42:28.009543' WHERE \"mall_shop\".\"id\" = 10; args=('투썸플레이스', 'not used description', ' 042-1234-0006', '', '2021-12-01 06:40:02.939734', '2021-12-01 07:42:28.009543', 10)\n",
      "(0.000) UPDATE \"mall_shop\" SET \"name\" = '셀프24시빨래방', \"description\" = 'not used description', \"telephone\" = '042-1234-4321', \"photo\" = '', \"created_at\" = '2021-12-01 06:40:03.575005', \"updated_at\" = '2021-12-01 07:42:28.045359' WHERE \"mall_shop\".\"id\" = 11; args=('셀프24시빨래방', 'not used description', '042-1234-4321', '', '2021-12-01 06:40:03.575005', '2021-12-01 07:42:28.045359', 11)\n",
      "(0.015) UPDATE \"mall_shop\" SET \"name\" = '투썸플레이스', \"description\" = 'not used description', \"telephone\" = '042-1234-1234', \"photo\" = '', \"created_at\" = '2021-12-01 06:41:39.359737', \"updated_at\" = '2021-12-01 07:42:28.057328' WHERE \"mall_shop\".\"id\" = 12; args=('투썸플레이스', 'not used description', '042-1234-1234', '', '2021-12-01 06:41:39.359737', '2021-12-01 07:42:28.057328', 12)\n",
      "(0.000) UPDATE \"mall_shop\" SET \"name\" = '셀프24시빨래방', \"description\" = 'not used description', \"telephone\" = '042-1234-4321', \"photo\" = '', \"created_at\" = '2021-12-01 06:41:39.909779', \"updated_at\" = '2021-12-01 07:42:28.066303' WHERE \"mall_shop\".\"id\" = 13; args=('셀프24시빨래방', 'not used description', '042-1234-4321', '', '2021-12-01 06:41:39.909779', '2021-12-01 07:42:28.066303', 13)\n",
      "(0.000) UPDATE \"mall_shop\" SET \"name\" = '가게명', \"description\" = 'not used description', \"telephone\" = '041-1234-9001', \"photo\" = '', \"created_at\" = '2021-12-01 06:45:23.408446', \"updated_at\" = '2021-12-01 07:42:28.074282' WHERE \"mall_shop\".\"id\" = 14; args=('가게명', 'not used description', '041-1234-9001', '', '2021-12-01 06:45:23.408446', '2021-12-01 07:42:28.074282', 14)\n",
      "(0.015) UPDATE \"mall_shop\" SET \"name\" = '가게명', \"description\" = 'not used description', \"telephone\" = '041-1234-9002', \"photo\" = '', \"created_at\" = '2021-12-01 06:45:23.431029', \"updated_at\" = '2021-12-01 07:42:28.084256' WHERE \"mall_shop\".\"id\" = 15; args=('가게명', 'not used description', '041-1234-9002', '', '2021-12-01 06:45:23.431029', '2021-12-01 07:42:28.084256', 15)\n",
      "(0.016) UPDATE \"mall_shop\" SET \"name\" = '가게명', \"description\" = 'not used description', \"telephone\" = '041-1234-9003', \"photo\" = '', \"created_at\" = '2021-12-01 06:45:23.441001', \"updated_at\" = '2021-12-01 07:42:28.098222' WHERE \"mall_shop\".\"id\" = 16; args=('가게명', 'not used description', '041-1234-9003', '', '2021-12-01 06:45:23.441001', '2021-12-01 07:42:28.098222', 16)\n",
      "(0.000) UPDATE \"mall_shop\" SET \"name\" = '가게명', \"description\" = 'not used description', \"telephone\" = '041-1234-9004', \"photo\" = '', \"created_at\" = '2021-12-01 06:45:23.454008', \"updated_at\" = '2021-12-01 07:42:28.107193' WHERE \"mall_shop\".\"id\" = 17; args=('가게명', 'not used description', '041-1234-9004', '', '2021-12-01 06:45:23.454008', '2021-12-01 07:42:28.107193', 17)\n",
      "(0.016) UPDATE \"mall_shop\" SET \"name\" = '가게명', \"description\" = 'not used description', \"telephone\" = '041-1234-9005', \"photo\" = '', \"created_at\" = '2021-12-01 06:45:23.471964', \"updated_at\" = '2021-12-01 07:42:28.118163' WHERE \"mall_shop\".\"id\" = 18; args=('가게명', 'not used description', '041-1234-9005', '', '2021-12-01 06:45:23.471964', '2021-12-01 07:42:28.118163', 18)\n",
      "(0.000) UPDATE \"mall_shop\" SET \"name\" = '가게명', \"description\" = 'not used description', \"telephone\" = '041-1234-9006', \"photo\" = '', \"created_at\" = '2021-12-01 06:45:23.486920', \"updated_at\" = '2021-12-01 07:42:28.127142' WHERE \"mall_shop\".\"id\" = 19; args=('가게명', 'not used description', '041-1234-9006', '', '2021-12-01 06:45:23.486920', '2021-12-01 07:42:28.127142', 19)\n",
      "(0.015) UPDATE \"mall_shop\" SET \"name\" = '가게명', \"description\" = 'not used description', \"telephone\" = '041-1234-9007', \"photo\" = '', \"created_at\" = '2021-12-01 06:45:23.500882', \"updated_at\" = '2021-12-01 07:42:28.134123' WHERE \"mall_shop\".\"id\" = 20; args=('가게명', 'not used description', '041-1234-9007', '', '2021-12-01 06:45:23.500882', '2021-12-01 07:42:28.134123', 20)\n",
      "(0.016) UPDATE \"mall_shop\" SET \"name\" = '가게명', \"description\" = 'not used description', \"telephone\" = '041-1234-9008', \"photo\" = '', \"created_at\" = '2021-12-01 06:45:23.513844', \"updated_at\" = '2021-12-01 07:42:28.142867' WHERE \"mall_shop\".\"id\" = 21; args=('가게명', 'not used description', '041-1234-9008', '', '2021-12-01 06:45:23.513844', '2021-12-01 07:42:28.142867', 21)\n",
      "(0.000) UPDATE \"mall_shop\" SET \"name\" = '가게명', \"description\" = 'not used description', \"telephone\" = '041-1234-9009', \"photo\" = '', \"created_at\" = '2021-12-01 06:45:23.528806', \"updated_at\" = '2021-12-01 07:42:28.153854' WHERE \"mall_shop\".\"id\" = 22; args=('가게명', 'not used description', '041-1234-9009', '', '2021-12-01 06:45:23.528806', '2021-12-01 07:42:28.153854', 22)\n",
      "(0.000) UPDATE \"mall_shop\" SET \"name\" = '가게명', \"description\" = 'not used description', \"telephone\" = '041-1234-9010', \"photo\" = '', \"created_at\" = '2021-12-01 06:45:23.542784', \"updated_at\" = '2021-12-01 07:42:28.165814' WHERE \"mall_shop\".\"id\" = 23; args=('가게명', 'not used description', '041-1234-9010', '', '2021-12-01 06:45:23.542784', '2021-12-01 07:42:28.165814', 23)\n",
      "(0.000) UPDATE \"mall_shop\" SET \"name\" = '가게명', \"description\" = 'not used description', \"telephone\" = '041-1234-9011', \"photo\" = '', \"created_at\" = '2021-12-01 06:45:23.558724', \"updated_at\" = '2021-12-01 07:42:28.181763' WHERE \"mall_shop\".\"id\" = 24; args=('가게명', 'not used description', '041-1234-9011', '', '2021-12-01 06:45:23.558724', '2021-12-01 07:42:28.181763', 24)\n",
      "(0.016) UPDATE \"mall_shop\" SET \"name\" = '가게명', \"description\" = 'not used description', \"telephone\" = '041-1234-9012', \"photo\" = '', \"created_at\" = '2021-12-01 06:45:23.571700', \"updated_at\" = '2021-12-01 07:42:28.195725' WHERE \"mall_shop\".\"id\" = 25; args=('가게명', 'not used description', '041-1234-9012', '', '2021-12-01 06:45:23.571700', '2021-12-01 07:42:28.195725', 25)\n",
      "(0.015) UPDATE \"mall_shop\" SET \"name\" = '가게명', \"description\" = 'not used description', \"telephone\" = '041-1234-9013', \"photo\" = '', \"created_at\" = '2021-12-01 06:45:23.586650', \"updated_at\" = '2021-12-01 07:42:28.211683' WHERE \"mall_shop\".\"id\" = 26; args=('가게명', 'not used description', '041-1234-9013', '', '2021-12-01 06:45:23.586650', '2021-12-01 07:42:28.211683', 26)\n",
      "(0.016) UPDATE \"mall_shop\" SET \"name\" = '가게명', \"description\" = 'not used description', \"telephone\" = '041-1234-9014', \"photo\" = '', \"created_at\" = '2021-12-01 06:45:23.601612', \"updated_at\" = '2021-12-01 07:42:28.224647' WHERE \"mall_shop\".\"id\" = 27; args=('가게명', 'not used description', '041-1234-9014', '', '2021-12-01 06:45:23.601612', '2021-12-01 07:42:28.224647', 27)\n",
      "(0.016) UPDATE \"mall_shop\" SET \"name\" = '가게명', \"description\" = 'not used description', \"telephone\" = '041-1234-9015', \"photo\" = '', \"created_at\" = '2021-12-01 06:45:23.614578', \"updated_at\" = '2021-12-01 07:42:28.239617' WHERE \"mall_shop\".\"id\" = 28; args=('가게명', 'not used description', '041-1234-9015', '', '2021-12-01 06:45:23.614578', '2021-12-01 07:42:28.239617', 28)\n",
      "(0.015) UPDATE \"mall_shop\" SET \"name\" = '가게명', \"description\" = 'not used description', \"telephone\" = '041-1234-9016', \"photo\" = '', \"created_at\" = '2021-12-01 06:45:23.630535', \"updated_at\" = '2021-12-01 07:42:28.253572' WHERE \"mall_shop\".\"id\" = 29; args=('가게명', 'not used description', '041-1234-9016', '', '2021-12-01 06:45:23.630535', '2021-12-01 07:42:28.253572', 29)\n",
      "(0.016) UPDATE \"mall_shop\" SET \"name\" = '가게명', \"description\" = 'not used description', \"telephone\" = '041-1234-9017', \"photo\" = '', \"created_at\" = '2021-12-01 06:45:23.642502', \"updated_at\" = '2021-12-01 07:42:28.265264' WHERE \"mall_shop\".\"id\" = 30; args=('가게명', 'not used description', '041-1234-9017', '', '2021-12-01 06:45:23.642502', '2021-12-01 07:42:28.265264', 30)\n",
      "(0.000) UPDATE \"mall_shop\" SET \"name\" = '가게명', \"description\" = 'not used description', \"telephone\" = '041-1234-9018', \"photo\" = '', \"created_at\" = '2021-12-01 06:45:23.653472', \"updated_at\" = '2021-12-01 07:42:28.279207' WHERE \"mall_shop\".\"id\" = 31; args=('가게명', 'not used description', '041-1234-9018', '', '2021-12-01 06:45:23.653472', '2021-12-01 07:42:28.279207', 31)\n"
     ]
    },
    {
     "name": "stderr",
     "output_type": "stream",
     "text": [
      "(0.000) UPDATE \"mall_shop\" SET \"name\" = '가게명', \"description\" = 'not used description', \"telephone\" = '041-1234-9019', \"photo\" = '', \"created_at\" = '2021-12-01 06:45:23.667438', \"updated_at\" = '2021-12-01 07:42:28.292174' WHERE \"mall_shop\".\"id\" = 32; args=('가게명', 'not used description', '041-1234-9019', '', '2021-12-01 06:45:23.667438', '2021-12-01 07:42:28.292174', 32)\n",
      "(0.015) UPDATE \"mall_shop\" SET \"name\" = '가게명', \"description\" = 'not used description', \"telephone\" = '041-1234-9020', \"photo\" = '', \"created_at\" = '2021-12-01 06:45:23.680400', \"updated_at\" = '2021-12-01 07:42:28.304147' WHERE \"mall_shop\".\"id\" = 33; args=('가게명', 'not used description', '041-1234-9020', '', '2021-12-01 06:45:23.680400', '2021-12-01 07:42:28.304147', 33)\n",
      "(0.016) UPDATE \"mall_shop\" SET \"name\" = '가게명', \"description\" = 'not used description', \"telephone\" = '041-1234-9021', \"photo\" = '', \"created_at\" = '2021-12-01 06:45:23.691370', \"updated_at\" = '2021-12-01 07:42:28.318107' WHERE \"mall_shop\".\"id\" = 34; args=('가게명', 'not used description', '041-1234-9021', '', '2021-12-01 06:45:23.691370', '2021-12-01 07:42:28.318107', 34)\n",
      "(0.015) UPDATE \"mall_shop\" SET \"name\" = '가게명', \"description\" = 'not used description', \"telephone\" = '041-1234-9022', \"photo\" = '', \"created_at\" = '2021-12-01 06:45:23.699349', \"updated_at\" = '2021-12-01 07:42:28.331076' WHERE \"mall_shop\".\"id\" = 35; args=('가게명', 'not used description', '041-1234-9022', '', '2021-12-01 06:45:23.699349', '2021-12-01 07:42:28.331076', 35)\n",
      "(0.000) UPDATE \"mall_shop\" SET \"name\" = '가게명', \"description\" = 'not used description', \"telephone\" = '041-1234-9023', \"photo\" = '', \"created_at\" = '2021-12-01 06:45:23.711317', \"updated_at\" = '2021-12-01 07:42:28.344039' WHERE \"mall_shop\".\"id\" = 36; args=('가게명', 'not used description', '041-1234-9023', '', '2021-12-01 06:45:23.711317', '2021-12-01 07:42:28.344039', 36)\n",
      "(0.000) UPDATE \"mall_shop\" SET \"name\" = '가게명', \"description\" = 'not used description', \"telephone\" = '041-1234-9024', \"photo\" = '', \"created_at\" = '2021-12-01 06:45:23.750682', \"updated_at\" = '2021-12-01 07:42:28.356002' WHERE \"mall_shop\".\"id\" = 37; args=('가게명', 'not used description', '041-1234-9024', '', '2021-12-01 06:45:23.750682', '2021-12-01 07:42:28.356002', 37)\n",
      "(0.016) UPDATE \"mall_shop\" SET \"name\" = '가게명', \"description\" = 'not used description', \"telephone\" = '041-1234-9025', \"photo\" = '', \"created_at\" = '2021-12-01 06:45:23.760653', \"updated_at\" = '2021-12-01 07:42:28.366972' WHERE \"mall_shop\".\"id\" = 38; args=('가게명', 'not used description', '041-1234-9025', '', '2021-12-01 06:45:23.760653', '2021-12-01 07:42:28.366972', 38)\n",
      "(0.015) UPDATE \"mall_shop\" SET \"name\" = '가게명', \"description\" = 'not used description', \"telephone\" = '041-1234-9026', \"photo\" = '', \"created_at\" = '2021-12-01 06:45:23.781696', \"updated_at\" = '2021-12-01 07:42:28.382934' WHERE \"mall_shop\".\"id\" = 39; args=('가게명', 'not used description', '041-1234-9026', '', '2021-12-01 06:45:23.781696', '2021-12-01 07:42:28.382934', 39)\n",
      "(0.016) UPDATE \"mall_shop\" SET \"name\" = '가게명', \"description\" = 'not used description', \"telephone\" = '041-1234-9027', \"photo\" = '', \"created_at\" = '2021-12-01 06:45:23.795662', \"updated_at\" = '2021-12-01 07:42:28.392904' WHERE \"mall_shop\".\"id\" = 40; args=('가게명', 'not used description', '041-1234-9027', '', '2021-12-01 06:45:23.795662', '2021-12-01 07:42:28.392904', 40)\n",
      "(0.016) UPDATE \"mall_shop\" SET \"name\" = '가게명', \"description\" = 'not used description', \"telephone\" = '041-1234-9028', \"photo\" = '', \"created_at\" = '2021-12-01 06:45:23.814653', \"updated_at\" = '2021-12-01 07:42:28.408870' WHERE \"mall_shop\".\"id\" = 41; args=('가게명', 'not used description', '041-1234-9028', '', '2021-12-01 06:45:23.814653', '2021-12-01 07:42:28.408870', 41)\n",
      "(0.000) UPDATE \"mall_shop\" SET \"name\" = '가게명', \"description\" = 'not used description', \"telephone\" = '041-1234-9029', \"photo\" = '', \"created_at\" = '2021-12-01 06:45:23.827616', \"updated_at\" = '2021-12-01 07:42:28.423918' WHERE \"mall_shop\".\"id\" = 42; args=('가게명', 'not used description', '041-1234-9029', '', '2021-12-01 06:45:23.827616', '2021-12-01 07:42:28.423918', 42)\n",
      "(0.000) UPDATE \"mall_shop\" SET \"name\" = '가게명', \"description\" = 'not used description', \"telephone\" = '041-1234-9030', \"photo\" = '', \"created_at\" = '2021-12-01 06:45:23.836591', \"updated_at\" = '2021-12-01 07:42:28.433892' WHERE \"mall_shop\".\"id\" = 43; args=('가게명', 'not used description', '041-1234-9030', '', '2021-12-01 06:45:23.836591', '2021-12-01 07:42:28.433892', 43)\n",
      "(0.000) UPDATE \"mall_shop\" SET \"name\" = '가게명', \"description\" = 'not used description', \"telephone\" = '041-1234-9031', \"photo\" = '', \"created_at\" = '2021-12-01 06:45:23.846565', \"updated_at\" = '2021-12-01 07:42:28.448853' WHERE \"mall_shop\".\"id\" = 44; args=('가게명', 'not used description', '041-1234-9031', '', '2021-12-01 06:45:23.846565', '2021-12-01 07:42:28.448853', 44)\n",
      "(0.015) UPDATE \"mall_shop\" SET \"name\" = '가게명', \"description\" = 'not used description', \"telephone\" = '041-1234-9032', \"photo\" = '', \"created_at\" = '2021-12-01 06:45:23.856538', \"updated_at\" = '2021-12-01 07:42:28.456831' WHERE \"mall_shop\".\"id\" = 45; args=('가게명', 'not used description', '041-1234-9032', '', '2021-12-01 06:45:23.856538', '2021-12-01 07:42:28.456831', 45)\n",
      "(0.000) UPDATE \"mall_shop\" SET \"name\" = '가게명', \"description\" = 'not used description', \"telephone\" = '041-1234-9033', \"photo\" = '', \"created_at\" = '2021-12-01 06:45:23.866511', \"updated_at\" = '2021-12-01 07:42:28.466810' WHERE \"mall_shop\".\"id\" = 46; args=('가게명', 'not used description', '041-1234-9033', '', '2021-12-01 06:45:23.866511', '2021-12-01 07:42:28.466810', 46)\n",
      "(0.000) UPDATE \"mall_shop\" SET \"name\" = '가게명', \"description\" = 'not used description', \"telephone\" = '041-1234-9034', \"photo\" = '', \"created_at\" = '2021-12-01 06:45:23.878481', \"updated_at\" = '2021-12-01 07:42:28.478812' WHERE \"mall_shop\".\"id\" = 47; args=('가게명', 'not used description', '041-1234-9034', '', '2021-12-01 06:45:23.878481', '2021-12-01 07:42:28.478812', 47)\n",
      "(0.016) UPDATE \"mall_shop\" SET \"name\" = '가게명', \"description\" = 'not used description', \"telephone\" = '041-1234-9035', \"photo\" = '', \"created_at\" = '2021-12-01 06:45:23.890449', \"updated_at\" = '2021-12-01 07:42:28.489771' WHERE \"mall_shop\".\"id\" = 48; args=('가게명', 'not used description', '041-1234-9035', '', '2021-12-01 06:45:23.890449', '2021-12-01 07:42:28.489771', 48)\n",
      "(0.015) UPDATE \"mall_shop\" SET \"name\" = '가게명', \"description\" = 'not used description', \"telephone\" = '041-1234-9036', \"photo\" = '', \"created_at\" = '2021-12-01 06:45:23.906404', \"updated_at\" = '2021-12-01 07:42:28.500746' WHERE \"mall_shop\".\"id\" = 49; args=('가게명', 'not used description', '041-1234-9036', '', '2021-12-01 06:45:23.906404', '2021-12-01 07:42:28.500746', 49)\n",
      "(0.016) UPDATE \"mall_shop\" SET \"name\" = '가게명', \"description\" = 'not used description', \"telephone\" = '041-1234-9037', \"photo\" = '', \"created_at\" = '2021-12-01 06:45:23.920384', \"updated_at\" = '2021-12-01 07:42:28.517703' WHERE \"mall_shop\".\"id\" = 50; args=('가게명', 'not used description', '041-1234-9037', '', '2021-12-01 06:45:23.920384', '2021-12-01 07:42:28.517703', 50)\n",
      "(0.000) UPDATE \"mall_shop\" SET \"name\" = '가게명', \"description\" = 'not used description', \"telephone\" = '041-1234-9038', \"photo\" = '', \"created_at\" = '2021-12-01 06:45:23.936326', \"updated_at\" = '2021-12-01 07:42:28.531658' WHERE \"mall_shop\".\"id\" = 51; args=('가게명', 'not used description', '041-1234-9038', '', '2021-12-01 06:45:23.936326', '2021-12-01 07:42:28.531658', 51)\n",
      "(0.016) UPDATE \"mall_shop\" SET \"name\" = '가게명', \"description\" = 'not used description', \"telephone\" = '041-1234-9039', \"photo\" = '', \"created_at\" = '2021-12-01 06:45:23.948294', \"updated_at\" = '2021-12-01 07:42:28.539635' WHERE \"mall_shop\".\"id\" = 52; args=('가게명', 'not used description', '041-1234-9039', '', '2021-12-01 06:45:23.948294', '2021-12-01 07:42:28.539635', 52)\n",
      "(0.015) UPDATE \"mall_shop\" SET \"name\" = '가게명', \"description\" = 'not used description', \"telephone\" = '041-1234-9040', \"photo\" = '', \"created_at\" = '2021-12-01 06:45:23.959267', \"updated_at\" = '2021-12-01 07:42:28.551613' WHERE \"mall_shop\".\"id\" = 53; args=('가게명', 'not used description', '041-1234-9040', '', '2021-12-01 06:45:23.959267', '2021-12-01 07:42:28.551613', 53)\n",
      "(0.016) UPDATE \"mall_shop\" SET \"name\" = '가게명', \"description\" = 'not used description', \"telephone\" = '041-1234-9041', \"photo\" = '', \"created_at\" = '2021-12-01 06:45:23.969566', \"updated_at\" = '2021-12-01 07:42:28.562577' WHERE \"mall_shop\".\"id\" = 54; args=('가게명', 'not used description', '041-1234-9041', '', '2021-12-01 06:45:23.969566', '2021-12-01 07:42:28.562577', 54)\n"
     ]
    },
    {
     "name": "stderr",
     "output_type": "stream",
     "text": [
      "(0.000) UPDATE \"mall_shop\" SET \"name\" = '가게명', \"description\" = 'not used description', \"telephone\" = '041-1234-9042', \"photo\" = '', \"created_at\" = '2021-12-01 06:45:23.993685', \"updated_at\" = '2021-12-01 07:42:28.575084' WHERE \"mall_shop\".\"id\" = 55; args=('가게명', 'not used description', '041-1234-9042', '', '2021-12-01 06:45:23.993685', '2021-12-01 07:42:28.575084', 55)\n",
      "(0.015) UPDATE \"mall_shop\" SET \"name\" = '가게명', \"description\" = 'not used description', \"telephone\" = '041-1234-9043', \"photo\" = '', \"created_at\" = '2021-12-01 06:45:24.005416', \"updated_at\" = '2021-12-01 07:42:28.587050' WHERE \"mall_shop\".\"id\" = 56; args=('가게명', 'not used description', '041-1234-9043', '', '2021-12-01 06:45:24.005416', '2021-12-01 07:42:28.587050', 56)\n",
      "(0.016) UPDATE \"mall_shop\" SET \"name\" = '가게명', \"description\" = 'not used description', \"telephone\" = '041-1234-9044', \"photo\" = '', \"created_at\" = '2021-12-01 06:45:24.015385', \"updated_at\" = '2021-12-01 07:42:28.598032' WHERE \"mall_shop\".\"id\" = 57; args=('가게명', 'not used description', '041-1234-9044', '', '2021-12-01 06:45:24.015385', '2021-12-01 07:42:28.598032', 57)\n",
      "(0.000) UPDATE \"mall_shop\" SET \"name\" = '가게명', \"description\" = 'not used description', \"telephone\" = '041-1234-9045', \"photo\" = '', \"created_at\" = '2021-12-01 06:45:24.025356', \"updated_at\" = '2021-12-01 07:42:28.619236' WHERE \"mall_shop\".\"id\" = 58; args=('가게명', 'not used description', '041-1234-9045', '', '2021-12-01 06:45:24.025356', '2021-12-01 07:42:28.619236', 58)\n",
      "(0.015) UPDATE \"mall_shop\" SET \"name\" = '가게명', \"description\" = 'not used description', \"telephone\" = '041-1234-9046', \"photo\" = '', \"created_at\" = '2021-12-01 06:45:24.038322', \"updated_at\" = '2021-12-01 07:42:28.633203' WHERE \"mall_shop\".\"id\" = 59; args=('가게명', 'not used description', '041-1234-9046', '', '2021-12-01 06:45:24.038322', '2021-12-01 07:42:28.633203', 59)\n",
      "(0.000) UPDATE \"mall_shop\" SET \"name\" = '가게명', \"description\" = 'not used description', \"telephone\" = '041-1234-9047', \"photo\" = '', \"created_at\" = '2021-12-01 06:45:24.050290', \"updated_at\" = '2021-12-01 07:42:28.641178' WHERE \"mall_shop\".\"id\" = 60; args=('가게명', 'not used description', '041-1234-9047', '', '2021-12-01 06:45:24.050290', '2021-12-01 07:42:28.641178', 60)\n",
      "(0.016) UPDATE \"mall_shop\" SET \"name\" = '가게명', \"description\" = 'not used description', \"telephone\" = '041-1234-9048', \"photo\" = '', \"created_at\" = '2021-12-01 06:45:24.063255', \"updated_at\" = '2021-12-01 07:42:28.650154' WHERE \"mall_shop\".\"id\" = 61; args=('가게명', 'not used description', '041-1234-9048', '', '2021-12-01 06:45:24.063255', '2021-12-01 07:42:28.650154', 61)\n",
      "(0.016) UPDATE \"mall_shop\" SET \"name\" = '가게명', \"description\" = 'not used description', \"telephone\" = '041-1234-9049', \"photo\" = '', \"created_at\" = '2021-12-01 06:45:24.075212', \"updated_at\" = '2021-12-01 07:42:28.662123' WHERE \"mall_shop\".\"id\" = 62; args=('가게명', 'not used description', '041-1234-9049', '', '2021-12-01 06:45:24.075212', '2021-12-01 07:42:28.662123', 62)\n",
      "(0.015) UPDATE \"mall_shop\" SET \"name\" = '가게명', \"description\" = 'not used description', \"telephone\" = '041-1234-9050', \"photo\" = '', \"created_at\" = '2021-12-01 06:45:24.086655', \"updated_at\" = '2021-12-01 07:42:28.675087' WHERE \"mall_shop\".\"id\" = 63; args=('가게명', 'not used description', '041-1234-9050', '', '2021-12-01 06:45:24.086655', '2021-12-01 07:42:28.675087', 63)\n",
      "(0.000) UPDATE \"mall_shop\" SET \"name\" = '가게명', \"description\" = 'not used description', \"telephone\" = '041-1234-9051', \"photo\" = '', \"created_at\" = '2021-12-01 06:45:24.098625', \"updated_at\" = '2021-12-01 07:42:28.686061' WHERE \"mall_shop\".\"id\" = 64; args=('가게명', 'not used description', '041-1234-9051', '', '2021-12-01 06:45:24.098625', '2021-12-01 07:42:28.686061', 64)\n",
      "(0.000) UPDATE \"mall_shop\" SET \"name\" = '가게명', \"description\" = 'not used description', \"telephone\" = '041-1234-9052', \"photo\" = '', \"created_at\" = '2021-12-01 06:45:24.112586', \"updated_at\" = '2021-12-01 07:42:28.700021' WHERE \"mall_shop\".\"id\" = 65; args=('가게명', 'not used description', '041-1234-9052', '', '2021-12-01 06:45:24.112586', '2021-12-01 07:42:28.700021', 65)\n",
      "(0.015) UPDATE \"mall_shop\" SET \"name\" = '가게명', \"description\" = 'not used description', \"telephone\" = '041-1234-9053', \"photo\" = '', \"created_at\" = '2021-12-01 06:45:24.122466', \"updated_at\" = '2021-12-01 07:42:28.708290' WHERE \"mall_shop\".\"id\" = 66; args=('가게명', 'not used description', '041-1234-9053', '', '2021-12-01 06:45:24.122466', '2021-12-01 07:42:28.708290', 66)\n",
      "(0.000) UPDATE \"mall_shop\" SET \"name\" = '가게명', \"description\" = 'not used description', \"telephone\" = '041-1234-9054', \"photo\" = '', \"created_at\" = '2021-12-01 06:45:24.131440', \"updated_at\" = '2021-12-01 07:42:28.716269' WHERE \"mall_shop\".\"id\" = 67; args=('가게명', 'not used description', '041-1234-9054', '', '2021-12-01 06:45:24.131440', '2021-12-01 07:42:28.716269', 67)\n",
      "(0.016) UPDATE \"mall_shop\" SET \"name\" = '가게명', \"description\" = 'not used description', \"telephone\" = '041-1234-9055', \"photo\" = '', \"created_at\" = '2021-12-01 06:45:24.141414', \"updated_at\" = '2021-12-01 07:42:28.724248' WHERE \"mall_shop\".\"id\" = 68; args=('가게명', 'not used description', '041-1234-9055', '', '2021-12-01 06:45:24.141414', '2021-12-01 07:42:28.724248', 68)\n",
      "(0.016) UPDATE \"mall_shop\" SET \"name\" = '가게명', \"description\" = 'not used description', \"telephone\" = '041-1234-9056', \"photo\" = '', \"created_at\" = '2021-12-01 06:45:24.150774', \"updated_at\" = '2021-12-01 07:42:28.736220' WHERE \"mall_shop\".\"id\" = 69; args=('가게명', 'not used description', '041-1234-9056', '', '2021-12-01 06:45:24.150774', '2021-12-01 07:42:28.736220', 69)\n",
      "(0.000) UPDATE \"mall_shop\" SET \"name\" = '가게명', \"description\" = 'not used description', \"telephone\" = '041-1234-9057', \"photo\" = '', \"created_at\" = '2021-12-01 06:45:24.161744', \"updated_at\" = '2021-12-01 07:42:28.749188' WHERE \"mall_shop\".\"id\" = 70; args=('가게명', 'not used description', '041-1234-9057', '', '2021-12-01 06:45:24.161744', '2021-12-01 07:42:28.749188', 70)\n",
      "(0.015) UPDATE \"mall_shop\" SET \"name\" = '가게명', \"description\" = 'not used description', \"telephone\" = '041-1234-9058', \"photo\" = '', \"created_at\" = '2021-12-01 06:45:24.172560', \"updated_at\" = '2021-12-01 07:42:28.757159' WHERE \"mall_shop\".\"id\" = 71; args=('가게명', 'not used description', '041-1234-9058', '', '2021-12-01 06:45:24.172560', '2021-12-01 07:42:28.757159', 71)\n",
      "(0.016) UPDATE \"mall_shop\" SET \"name\" = '가게명', \"description\" = 'not used description', \"telephone\" = '041-1234-9059', \"photo\" = '', \"created_at\" = '2021-12-01 06:45:24.184370', \"updated_at\" = '2021-12-01 07:42:28.769127' WHERE \"mall_shop\".\"id\" = 72; args=('가게명', 'not used description', '041-1234-9059', '', '2021-12-01 06:45:24.184370', '2021-12-01 07:42:28.769127', 72)\n",
      "(0.000) UPDATE \"mall_shop\" SET \"name\" = '가게명', \"description\" = 'not used description', \"telephone\" = '041-1234-9060', \"photo\" = '', \"created_at\" = '2021-12-01 06:45:24.196308', \"updated_at\" = '2021-12-01 07:42:28.782092' WHERE \"mall_shop\".\"id\" = 73; args=('가게명', 'not used description', '041-1234-9060', '', '2021-12-01 06:45:24.196308', '2021-12-01 07:42:28.782092', 73)\n",
      "(0.016) UPDATE \"mall_shop\" SET \"name\" = '가게명', \"description\" = 'not used description', \"telephone\" = '041-1234-9061', \"photo\" = '', \"created_at\" = '2021-12-01 06:45:24.208274', \"updated_at\" = '2021-12-01 07:42:28.790072' WHERE \"mall_shop\".\"id\" = 74; args=('가게명', 'not used description', '041-1234-9061', '', '2021-12-01 06:45:24.208274', '2021-12-01 07:42:28.790072', 74)\n",
      "(0.015) UPDATE \"mall_shop\" SET \"name\" = '가게명', \"description\" = 'not used description', \"telephone\" = '041-1234-9062', \"photo\" = '', \"created_at\" = '2021-12-01 06:45:24.219614', \"updated_at\" = '2021-12-01 07:42:28.800051' WHERE \"mall_shop\".\"id\" = 75; args=('가게명', 'not used description', '041-1234-9062', '', '2021-12-01 06:45:24.219614', '2021-12-01 07:42:28.800051', 75)\n",
      "(0.000) UPDATE \"mall_shop\" SET \"name\" = '가게명', \"description\" = 'not used description', \"telephone\" = '041-1234-9063', \"photo\" = '', \"created_at\" = '2021-12-01 06:45:24.229571', \"updated_at\" = '2021-12-01 07:42:28.812013' WHERE \"mall_shop\".\"id\" = 76; args=('가게명', 'not used description', '041-1234-9063', '', '2021-12-01 06:45:24.229571', '2021-12-01 07:42:28.812013', 76)\n",
      "(0.000) UPDATE \"mall_shop\" SET \"name\" = '가게명', \"description\" = 'not used description', \"telephone\" = '041-1234-9064', \"photo\" = '', \"created_at\" = '2021-12-01 06:45:24.240541', \"updated_at\" = '2021-12-01 07:42:28.823982' WHERE \"mall_shop\".\"id\" = 77; args=('가게명', 'not used description', '041-1234-9064', '', '2021-12-01 06:45:24.240541', '2021-12-01 07:42:28.823982', 77)\n"
     ]
    },
    {
     "name": "stderr",
     "output_type": "stream",
     "text": [
      "(0.000) UPDATE \"mall_shop\" SET \"name\" = '가게명', \"description\" = 'not used description', \"telephone\" = '041-1234-9065', \"photo\" = '', \"created_at\" = '2021-12-01 06:45:24.251514', \"updated_at\" = '2021-12-01 07:42:28.838942' WHERE \"mall_shop\".\"id\" = 78; args=('가게명', 'not used description', '041-1234-9065', '', '2021-12-01 06:45:24.251514', '2021-12-01 07:42:28.838942', 78)\n",
      "(0.016) UPDATE \"mall_shop\" SET \"name\" = '가게명', \"description\" = 'not used description', \"telephone\" = '041-1234-9066', \"photo\" = '', \"created_at\" = '2021-12-01 06:45:24.262483', \"updated_at\" = '2021-12-01 07:42:28.850911' WHERE \"mall_shop\".\"id\" = 79; args=('가게명', 'not used description', '041-1234-9066', '', '2021-12-01 06:45:24.262483', '2021-12-01 07:42:28.850911', 79)\n",
      "(0.016) UPDATE \"mall_shop\" SET \"name\" = '가게명', \"description\" = 'not used description', \"telephone\" = '041-1234-9067', \"photo\" = '', \"created_at\" = '2021-12-01 06:45:24.272148', \"updated_at\" = '2021-12-01 07:42:28.865869' WHERE \"mall_shop\".\"id\" = 80; args=('가게명', 'not used description', '041-1234-9067', '', '2021-12-01 06:45:24.272148', '2021-12-01 07:42:28.865869', 80)\n",
      "(0.015) UPDATE \"mall_shop\" SET \"name\" = '가게명', \"description\" = 'not used description', \"telephone\" = '041-1234-9068', \"photo\" = '', \"created_at\" = '2021-12-01 06:45:24.283115', \"updated_at\" = '2021-12-01 07:42:28.875852' WHERE \"mall_shop\".\"id\" = 81; args=('가게명', 'not used description', '041-1234-9068', '', '2021-12-01 06:45:24.283115', '2021-12-01 07:42:28.875852', 81)\n",
      "(0.000) UPDATE \"mall_shop\" SET \"name\" = '가게명', \"description\" = 'not used description', \"telephone\" = '041-1234-9069', \"photo\" = '', \"created_at\" = '2021-12-01 06:45:24.294095', \"updated_at\" = '2021-12-01 07:42:28.887812' WHERE \"mall_shop\".\"id\" = 82; args=('가게명', 'not used description', '041-1234-9069', '', '2021-12-01 06:45:24.294095', '2021-12-01 07:42:28.887812', 82)\n",
      "(0.016) UPDATE \"mall_shop\" SET \"name\" = '가게명', \"description\" = 'not used description', \"telephone\" = '041-1234-9070', \"photo\" = '', \"created_at\" = '2021-12-01 06:45:24.312601', \"updated_at\" = '2021-12-01 07:42:28.898906' WHERE \"mall_shop\".\"id\" = 83; args=('가게명', 'not used description', '041-1234-9070', '', '2021-12-01 06:45:24.312601', '2021-12-01 07:42:28.898906', 83)\n",
      "(0.016) UPDATE \"mall_shop\" SET \"name\" = '가게명', \"description\" = 'not used description', \"telephone\" = '041-1234-9071', \"photo\" = '', \"created_at\" = '2021-12-01 06:45:24.320733', \"updated_at\" = '2021-12-01 07:42:28.909884' WHERE \"mall_shop\".\"id\" = 84; args=('가게명', 'not used description', '041-1234-9071', '', '2021-12-01 06:45:24.320733', '2021-12-01 07:42:28.909884', 84)\n",
      "(0.015) UPDATE \"mall_shop\" SET \"name\" = '가게명', \"description\" = 'not used description', \"telephone\" = '041-1234-9072', \"photo\" = '', \"created_at\" = '2021-12-01 06:45:24.329708', \"updated_at\" = '2021-12-01 07:42:28.926862' WHERE \"mall_shop\".\"id\" = 85; args=('가게명', 'not used description', '041-1234-9072', '', '2021-12-01 06:45:24.329708', '2021-12-01 07:42:28.926862', 85)\n",
      "(0.016) UPDATE \"mall_shop\" SET \"name\" = '가게명', \"description\" = 'not used description', \"telephone\" = '041-1234-9073', \"photo\" = '', \"created_at\" = '2021-12-01 06:45:24.338692', \"updated_at\" = '2021-12-01 07:42:28.940827' WHERE \"mall_shop\".\"id\" = 86; args=('가게명', 'not used description', '041-1234-9073', '', '2021-12-01 06:45:24.338692', '2021-12-01 07:42:28.940827', 86)\n",
      "(0.000) UPDATE \"mall_shop\" SET \"name\" = '가게명', \"description\" = 'not used description', \"telephone\" = '041-1234-9074', \"photo\" = '', \"created_at\" = '2021-12-01 06:45:24.348660', \"updated_at\" = '2021-12-01 07:42:28.953804' WHERE \"mall_shop\".\"id\" = 87; args=('가게명', 'not used description', '041-1234-9074', '', '2021-12-01 06:45:24.348660', '2021-12-01 07:42:28.953804', 87)\n",
      "(0.000) UPDATE \"mall_shop\" SET \"name\" = '가게명', \"description\" = 'not used description', \"telephone\" = '041-1234-9075', \"photo\" = '', \"created_at\" = '2021-12-01 06:45:24.357636', \"updated_at\" = '2021-12-01 07:42:28.965758' WHERE \"mall_shop\".\"id\" = 88; args=('가게명', 'not used description', '041-1234-9075', '', '2021-12-01 06:45:24.357636', '2021-12-01 07:42:28.965758', 88)\n",
      "(0.000) UPDATE \"mall_shop\" SET \"name\" = '가게명', \"description\" = 'not used description', \"telephone\" = '041-1234-9076', \"photo\" = '', \"created_at\" = '2021-12-01 06:45:24.366609', \"updated_at\" = '2021-12-01 07:42:28.978801' WHERE \"mall_shop\".\"id\" = 89; args=('가게명', 'not used description', '041-1234-9076', '', '2021-12-01 06:45:24.366609', '2021-12-01 07:42:28.978801', 89)\n",
      "(0.016) UPDATE \"mall_shop\" SET \"name\" = '가게명', \"description\" = 'not used description', \"telephone\" = '041-1234-9077', \"photo\" = '', \"created_at\" = '2021-12-01 06:45:24.377581', \"updated_at\" = '2021-12-01 07:42:28.988997' WHERE \"mall_shop\".\"id\" = 90; args=('가게명', 'not used description', '041-1234-9077', '', '2021-12-01 06:45:24.377581', '2021-12-01 07:42:28.988997', 90)\n",
      "(0.000) UPDATE \"mall_shop\" SET \"name\" = '가게명', \"description\" = 'not used description', \"telephone\" = '041-1234-9078', \"photo\" = '', \"created_at\" = '2021-12-01 06:45:24.387554', \"updated_at\" = '2021-12-01 07:42:28.999972' WHERE \"mall_shop\".\"id\" = 91; args=('가게명', 'not used description', '041-1234-9078', '', '2021-12-01 06:45:24.387554', '2021-12-01 07:42:28.999972', 91)\n",
      "(0.000) UPDATE \"mall_shop\" SET \"name\" = '가게명', \"description\" = 'not used description', \"telephone\" = '041-1234-9079', \"photo\" = '', \"created_at\" = '2021-12-01 06:45:24.397527', \"updated_at\" = '2021-12-01 07:42:29.013942' WHERE \"mall_shop\".\"id\" = 92; args=('가게명', 'not used description', '041-1234-9079', '', '2021-12-01 06:45:24.397527', '2021-12-01 07:42:29.013942', 92)\n",
      "(0.016) UPDATE \"mall_shop\" SET \"name\" = '가게명', \"description\" = 'not used description', \"telephone\" = '041-1234-9080', \"photo\" = '', \"created_at\" = '2021-12-01 06:45:24.409496', \"updated_at\" = '2021-12-01 07:42:29.023913' WHERE \"mall_shop\".\"id\" = 93; args=('가게명', 'not used description', '041-1234-9080', '', '2021-12-01 06:45:24.409496', '2021-12-01 07:42:29.023913', 93)\n",
      "(0.016) UPDATE \"mall_shop\" SET \"name\" = '가게명', \"description\" = 'not used description', \"telephone\" = '041-1234-9081', \"photo\" = '', \"created_at\" = '2021-12-01 06:45:24.419470', \"updated_at\" = '2021-12-01 07:42:29.033877' WHERE \"mall_shop\".\"id\" = 94; args=('가게명', 'not used description', '041-1234-9081', '', '2021-12-01 06:45:24.419470', '2021-12-01 07:42:29.033877', 94)\n",
      "(0.015) UPDATE \"mall_shop\" SET \"name\" = '가게명', \"description\" = 'not used description', \"telephone\" = '041-1234-9082', \"photo\" = '', \"created_at\" = '2021-12-01 06:45:24.433430', \"updated_at\" = '2021-12-01 07:42:29.048899' WHERE \"mall_shop\".\"id\" = 95; args=('가게명', 'not used description', '041-1234-9082', '', '2021-12-01 06:45:24.433430', '2021-12-01 07:42:29.048899', 95)\n",
      "(0.016) UPDATE \"mall_shop\" SET \"name\" = '가게명', \"description\" = 'not used description', \"telephone\" = '041-1234-9083', \"photo\" = '', \"created_at\" = '2021-12-01 06:45:24.447411', \"updated_at\" = '2021-12-01 07:42:29.063852' WHERE \"mall_shop\".\"id\" = 96; args=('가게명', 'not used description', '041-1234-9083', '', '2021-12-01 06:45:24.447411', '2021-12-01 07:42:29.063852', 96)\n",
      "(0.000) UPDATE \"mall_shop\" SET \"name\" = '가게명', \"description\" = 'not used description', \"telephone\" = '041-1234-9084', \"photo\" = '', \"created_at\" = '2021-12-01 06:45:24.457367', \"updated_at\" = '2021-12-01 07:42:29.074852' WHERE \"mall_shop\".\"id\" = 97; args=('가게명', 'not used description', '041-1234-9084', '', '2021-12-01 06:45:24.457367', '2021-12-01 07:42:29.074852', 97)\n",
      "(0.000) UPDATE \"mall_shop\" SET \"name\" = '가게명', \"description\" = 'not used description', \"telephone\" = '041-1234-9085', \"photo\" = '', \"created_at\" = '2021-12-01 06:45:24.469003', \"updated_at\" = '2021-12-01 07:42:29.089780' WHERE \"mall_shop\".\"id\" = 98; args=('가게명', 'not used description', '041-1234-9085', '', '2021-12-01 06:45:24.469003', '2021-12-01 07:42:29.089780', 98)\n",
      "(0.016) UPDATE \"mall_shop\" SET \"name\" = '가게명', \"description\" = 'not used description', \"telephone\" = '041-1234-9086', \"photo\" = '', \"created_at\" = '2021-12-01 06:45:24.479975', \"updated_at\" = '2021-12-01 07:42:29.100745' WHERE \"mall_shop\".\"id\" = 99; args=('가게명', 'not used description', '041-1234-9086', '', '2021-12-01 06:45:24.479975', '2021-12-01 07:42:29.100745', 99)\n",
      "(0.016) UPDATE \"mall_shop\" SET \"name\" = '가게명', \"description\" = 'not used description', \"telephone\" = '041-1234-9087', \"photo\" = '', \"created_at\" = '2021-12-01 06:45:24.489947', \"updated_at\" = '2021-12-01 07:42:29.118699' WHERE \"mall_shop\".\"id\" = 100; args=('가게명', 'not used description', '041-1234-9087', '', '2021-12-01 06:45:24.489947', '2021-12-01 07:42:29.118699', 100)\n"
     ]
    },
    {
     "name": "stderr",
     "output_type": "stream",
     "text": [
      "(0.015) UPDATE \"mall_shop\" SET \"name\" = '가게명', \"description\" = 'not used description', \"telephone\" = '041-1234-9088', \"photo\" = '', \"created_at\" = '2021-12-01 06:45:24.498923', \"updated_at\" = '2021-12-01 07:42:29.127676' WHERE \"mall_shop\".\"id\" = 101; args=('가게명', 'not used description', '041-1234-9088', '', '2021-12-01 06:45:24.498923', '2021-12-01 07:42:29.127676', 101)\n",
      "(0.016) UPDATE \"mall_shop\" SET \"name\" = '가게명', \"description\" = 'not used description', \"telephone\" = '041-1234-9089', \"photo\" = '', \"created_at\" = '2021-12-01 06:45:24.507900', \"updated_at\" = '2021-12-01 07:42:29.139641' WHERE \"mall_shop\".\"id\" = 102; args=('가게명', 'not used description', '041-1234-9089', '', '2021-12-01 06:45:24.507900', '2021-12-01 07:42:29.139641', 102)\n",
      "(0.016) UPDATE \"mall_shop\" SET \"name\" = '가게명', \"description\" = 'not used description', \"telephone\" = '041-1234-9090', \"photo\" = '', \"created_at\" = '2021-12-01 06:45:24.518907', \"updated_at\" = '2021-12-01 07:42:29.156601' WHERE \"mall_shop\".\"id\" = 103; args=('가게명', 'not used description', '041-1234-9090', '', '2021-12-01 06:45:24.518907', '2021-12-01 07:42:29.156601', 103)\n",
      "(0.015) UPDATE \"mall_shop\" SET \"name\" = '가게명', \"description\" = 'not used description', \"telephone\" = '041-1234-9091', \"photo\" = '', \"created_at\" = '2021-12-01 06:45:24.530878', \"updated_at\" = '2021-12-01 07:42:29.171556' WHERE \"mall_shop\".\"id\" = 104; args=('가게명', 'not used description', '041-1234-9091', '', '2021-12-01 06:45:24.530878', '2021-12-01 07:42:29.171556', 104)\n",
      "(0.000) UPDATE \"mall_shop\" SET \"name\" = '가게명', \"description\" = 'not used description', \"telephone\" = '041-1234-9092', \"photo\" = '', \"created_at\" = '2021-12-01 06:45:24.539854', \"updated_at\" = '2021-12-01 07:42:29.185518' WHERE \"mall_shop\".\"id\" = 105; args=('가게명', 'not used description', '041-1234-9092', '', '2021-12-01 06:45:24.539854', '2021-12-01 07:42:29.185518', 105)\n",
      "(0.016) UPDATE \"mall_shop\" SET \"name\" = '가게명', \"description\" = 'not used description', \"telephone\" = '041-1234-9093', \"photo\" = '', \"created_at\" = '2021-12-01 06:45:24.549825', \"updated_at\" = '2021-12-01 07:42:29.197491' WHERE \"mall_shop\".\"id\" = 106; args=('가게명', 'not used description', '041-1234-9093', '', '2021-12-01 06:45:24.549825', '2021-12-01 07:42:29.197491', 106)\n",
      "(0.015) UPDATE \"mall_shop\" SET \"name\" = '가게명', \"description\" = 'not used description', \"telephone\" = '041-1234-9094', \"photo\" = '', \"created_at\" = '2021-12-01 06:45:24.559798', \"updated_at\" = '2021-12-01 07:42:29.206465' WHERE \"mall_shop\".\"id\" = 107; args=('가게명', 'not used description', '041-1234-9094', '', '2021-12-01 06:45:24.559798', '2021-12-01 07:42:29.206465', 107)\n",
      "(0.000) UPDATE \"mall_shop\" SET \"name\" = '가게명', \"description\" = 'not used description', \"telephone\" = '041-1234-9095', \"photo\" = '', \"created_at\" = '2021-12-01 06:45:24.572360', \"updated_at\" = '2021-12-01 07:42:29.217434' WHERE \"mall_shop\".\"id\" = 108; args=('가게명', 'not used description', '041-1234-9095', '', '2021-12-01 06:45:24.572360', '2021-12-01 07:42:29.217434', 108)\n",
      "(0.016) UPDATE \"mall_shop\" SET \"name\" = '가게명', \"description\" = 'not used description', \"telephone\" = '041-1234-9096', \"photo\" = '', \"created_at\" = '2021-12-01 06:45:24.582329', \"updated_at\" = '2021-12-01 07:42:29.230398' WHERE \"mall_shop\".\"id\" = 109; args=('가게명', 'not used description', '041-1234-9096', '', '2021-12-01 06:45:24.582329', '2021-12-01 07:42:29.230398', 109)\n",
      "(0.000) UPDATE \"mall_shop\" SET \"name\" = '가게명', \"description\" = 'not used description', \"telephone\" = '041-1234-9097', \"photo\" = '', \"created_at\" = '2021-12-01 06:45:24.592303', \"updated_at\" = '2021-12-01 07:42:29.249352' WHERE \"mall_shop\".\"id\" = 110; args=('가게명', 'not used description', '041-1234-9097', '', '2021-12-01 06:45:24.592303', '2021-12-01 07:42:29.249352', 110)\n",
      "(0.015) UPDATE \"mall_shop\" SET \"name\" = '가게명', \"description\" = 'not used description', \"telephone\" = '041-1234-9098', \"photo\" = '', \"created_at\" = '2021-12-01 06:45:24.602277', \"updated_at\" = '2021-12-01 07:42:29.258924' WHERE \"mall_shop\".\"id\" = 111; args=('가게명', 'not used description', '041-1234-9098', '', '2021-12-01 06:45:24.602277', '2021-12-01 07:42:29.258924', 111)\n",
      "(0.016) UPDATE \"mall_shop\" SET \"name\" = '가게명', \"description\" = 'not used description', \"telephone\" = '041-1234-9099', \"photo\" = '', \"created_at\" = '2021-12-01 06:45:24.613885', \"updated_at\" = '2021-12-01 07:42:29.271555' WHERE \"mall_shop\".\"id\" = 112; args=('가게명', 'not used description', '041-1234-9099', '', '2021-12-01 06:45:24.613885', '2021-12-01 07:42:29.271555', 112)\n",
      "(0.000) UPDATE \"mall_shop\" SET \"name\" = '가게명', \"description\" = 'not used description', \"telephone\" = '041-1234-9100', \"photo\" = '', \"created_at\" = '2021-12-01 06:45:24.624857', \"updated_at\" = '2021-12-01 07:42:29.280526' WHERE \"mall_shop\".\"id\" = 113; args=('가게명', 'not used description', '041-1234-9100', '', '2021-12-01 06:45:24.624857', '2021-12-01 07:42:29.280526', 113)\n"
     ]
    }
   ],
   "source": [
    "qs = Shop.objects.all()\n",
    "\n",
    "qs.filter(pk__lte=10)\n",
    "for shop in qs:\n",
    "    shop.description=\"not used description\"\n",
    "    shop.save()"
   ]
  },
  {
   "cell_type": "code",
   "execution_count": null,
   "id": "2c34857b",
   "metadata": {},
   "outputs": [],
   "source": []
  }
 ],
 "metadata": {
  "kernelspec": {
   "display_name": "Python 3 (ipykernel)",
   "language": "python",
   "name": "python3"
  },
  "language_info": {
   "codemirror_mode": {
    "name": "ipython",
    "version": 3
   },
   "file_extension": ".py",
   "mimetype": "text/x-python",
   "name": "python",
   "nbconvert_exporter": "python",
   "pygments_lexer": "ipython3",
   "version": "3.10.0"
  }
 },
 "nbformat": 4,
 "nbformat_minor": 5
}
