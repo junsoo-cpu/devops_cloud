{
 "cells": [
  {
   "cell_type": "code",
   "execution_count": 1,
   "id": "837606cb",
   "metadata": {},
   "outputs": [],
   "source": [
    "import os\n",
    "\n",
    "os.environ[\"DJANGO_SETTINGS_MODULE\"] = \"mydjango20.settings\"\n",
    "os.environ[\"DJANGO_ALLOW_ASYNC_UNSAFE\"] = \"true\"\n",
    "\n",
    "import django\n",
    "django.setup()"
   ]
  },
  {
   "cell_type": "code",
   "execution_count": 2,
   "id": "c3b08266",
   "metadata": {},
   "outputs": [],
   "source": [
    "from shop.models import Shop"
   ]
  },
  {
   "cell_type": "code",
   "execution_count": 3,
   "id": "fb137fe2",
   "metadata": {},
   "outputs": [
    {
     "data": {
      "text/plain": [
       "<Shop: 낭만커피>"
      ]
     },
     "execution_count": 3,
     "metadata": {},
     "output_type": "execute_result"
    }
   ],
   "source": [
    "shop = Shop.objects.get(pk=3)\n",
    "shop"
   ]
  },
  {
   "cell_type": "code",
   "execution_count": 5,
   "id": "f15b9d12",
   "metadata": {},
   "outputs": [],
   "source": [
    "tags = \"카페, 투썸 플레이스\""
   ]
  },
  {
   "cell_type": "code",
   "execution_count": 25,
   "id": "6cab8323",
   "metadata": {},
   "outputs": [
    {
     "data": {
      "text/plain": [
       "<Tag: 아시안>"
      ]
     },
     "execution_count": 25,
     "metadata": {},
     "output_type": "execute_result"
    }
   ],
   "source": [
    "from shop.models import Tag\n",
    "\n",
    "tag_name = \"아시안\"\n",
    "\n",
    "\n",
    "# if not Tag.objects.filter(name=tag_name).exists():\n",
    "#     Tag.objects.create(name=tag_name)\n",
    "#     print(\"생성\")\n",
    "# else:\n",
    "#     print(\"do nothing\")\n",
    "    \n",
    "# ManyToMany 필드 처리에서 관계로 추가할 모델의 인스턴스 리스트가 필요\n",
    "tag, __ = Tag.objects.get_or_create(name=tag_name)\n",
    "tag"
   ]
  },
  {
   "cell_type": "code",
   "execution_count": 32,
   "id": "c6cca9a5",
   "metadata": {},
   "outputs": [
    {
     "data": {
      "text/plain": [
       "[<Tag: 카페>, <Tag: 투썸 플레이스>]"
      ]
     },
     "execution_count": 32,
     "metadata": {},
     "output_type": "execute_result"
    }
   ],
   "source": [
    "tag_list = []\n",
    "for word in tags.split(\",\"):\n",
    "    tag_name = word.strip() # 좌우 공백을 제거\n",
    "    tag, __ = Tag.objects.get_or_create(name=tag_name)\n",
    "    tag_list.append(tag)\n",
    "    \n",
    "tag_list"
   ]
  },
  {
   "cell_type": "code",
   "execution_count": 33,
   "id": "1fb2177f",
   "metadata": {},
   "outputs": [
    {
     "data": {
      "text/plain": [
       "<QuerySet []>"
      ]
     },
     "execution_count": 33,
     "metadata": {},
     "output_type": "execute_result"
    }
   ],
   "source": [
    "shop.tag_set.all()"
   ]
  },
  {
   "cell_type": "code",
   "execution_count": 36,
   "id": "3fdc4f28",
   "metadata": {},
   "outputs": [],
   "source": [
    "shop.tag_set.add(*tag_list)   # 중복 add에 대한 처리가 내부적으로 되어있다."
   ]
  },
  {
   "cell_type": "code",
   "execution_count": 35,
   "id": "9b2fb7c1",
   "metadata": {
    "scrolled": true
   },
   "outputs": [
    {
     "data": {
      "text/plain": [
       "<QuerySet [<Tag: 카페>, <Tag: 투썸 플레이스>]>"
      ]
     },
     "execution_count": 35,
     "metadata": {},
     "output_type": "execute_result"
    }
   ],
   "source": [
    "shop.tag_set.all()"
   ]
  },
  {
   "cell_type": "code",
   "execution_count": 29,
   "id": "10c92ed5",
   "metadata": {},
   "outputs": [],
   "source": [
    "shop.tag_set.clear()"
   ]
  },
  {
   "cell_type": "code",
   "execution_count": 31,
   "id": "4e97ae65",
   "metadata": {},
   "outputs": [
    {
     "data": {
      "text/plain": [
       "<QuerySet []>"
      ]
     },
     "execution_count": 31,
     "metadata": {},
     "output_type": "execute_result"
    }
   ],
   "source": [
    "shop.tag_set.all()"
   ]
  },
  {
   "cell_type": "code",
   "execution_count": null,
   "id": "89fd449a",
   "metadata": {},
   "outputs": [],
   "source": []
  }
 ],
 "metadata": {
  "kernelspec": {
   "display_name": "Python 3 (ipykernel)",
   "language": "python",
   "name": "python3"
  },
  "language_info": {
   "codemirror_mode": {
    "name": "ipython",
    "version": 3
   },
   "file_extension": ".py",
   "mimetype": "text/x-python",
   "name": "python",
   "nbconvert_exporter": "python",
   "pygments_lexer": "ipython3",
   "version": "3.10.0"
  }
 },
 "nbformat": 4,
 "nbformat_minor": 5
}
